{
  "cells": [
    {
      "cell_type": "markdown",
      "id": "27072d5e",
      "metadata": {
        "id": "27072d5e"
      },
      "source": [
        "![image.png](attachment:image.png)"
      ]
    },
    {
      "cell_type": "markdown",
      "id": "e04e18d1",
      "metadata": {
        "id": "e04e18d1"
      },
      "source": [
        "# HW 3.1\n",
        "\n",
        "This exercise is **not graded**, but I encourage you to pass it in order to receive your project assignments"
      ]
    },
    {
      "cell_type": "markdown",
      "id": "26371070",
      "metadata": {
        "id": "26371070"
      },
      "source": [
        "### Plain Logit Model on Simulated Data\n",
        "\n",
        "Don't mix this up with the logistic regression\n",
        "\n",
        "You cand find its mathematical formulation [here](chrome-extension://efaidnbmnnnibpcajpcglclefindmkaj/https://eml.berkeley.edu/choice2/ch3.pdf)"
      ]
    },
    {
      "cell_type": "markdown",
      "id": "c8b3ea51",
      "metadata": {
        "id": "c8b3ea51"
      },
      "source": [
        "Basic components of logit models:\n",
        "\n",
        "- utility function\n",
        "- choice probabilities"
      ]
    },
    {
      "cell_type": "markdown",
      "id": "89fe2628",
      "metadata": {
        "id": "89fe2628"
      },
      "source": [
        "I suggest you to code up probabilities of a simple Logit Model. Don't pay attention to functions and other parts of a syntax that may seem new for now."
      ]
    },
    {
      "cell_type": "code",
      "execution_count": null,
      "id": "1d95555e",
      "metadata": {
        "id": "1d95555e"
      },
      "outputs": [],
      "source": [
        "import numpy as np\n",
        "import pandas as pd\n",
        "from itertools import product"
      ]
    },
    {
      "cell_type": "code",
      "execution_count": null,
      "id": "78aa0497",
      "metadata": {
        "id": "78aa0497"
      },
      "outputs": [],
      "source": [
        "np.random.seed(100)\n",
        "synt_consumers = {'postcodeid':[i for i in range(100)],\n",
        "         'income':abs(np.random.normal(80000, 20000, 100)),\n",
        "         'population':np.random.uniform(4000, 7000 ,100),\n",
        "         'vehicle': np.random.randint(2,size = 100),\n",
        "         'flats':np.random.uniform(10, 70, 100)}\n",
        "synt_stores = {'shopid':list(range(10)),\n",
        "           'size': abs(np.random.normal(500,200, 10)),\n",
        "           'smth': np.random.randint(1, 4, 10), # какие-то другие характеристики магазинов\n",
        "           'smth2': np.random.randint(5, 9, 10)}"
      ]
    },
    {
      "cell_type": "code",
      "execution_count": null,
      "id": "ba9805a0",
      "metadata": {
        "id": "ba9805a0"
      },
      "outputs": [],
      "source": [
        "consumers_df, shops_df = pd.DataFrame(synt_consumers).astype(int), pd.DataFrame(synt_stores).astype(int)"
      ]
    },
    {
      "cell_type": "code",
      "execution_count": null,
      "id": "381a056f",
      "metadata": {
        "id": "381a056f"
      },
      "outputs": [],
      "source": [
        "consumers, shops = consumers_df['postcodeid'], shops_df['shopid']"
      ]
    },
    {
      "cell_type": "code",
      "execution_count": null,
      "id": "1e12bbf8",
      "metadata": {
        "id": "1e12bbf8"
      },
      "outputs": [],
      "source": [
        "cross_combinations = pd.DataFrame(tuple(product(consumers, shops)), columns=['postcodeid', 'shopid'])"
      ]
    },
    {
      "cell_type": "code",
      "execution_count": null,
      "id": "b39eaff6",
      "metadata": {
        "id": "b39eaff6"
      },
      "outputs": [],
      "source": [
        "cross_demographics = consumers_df.merge(\n",
        "    cross_combinations,\n",
        "    left_on='postcodeid',\n",
        "    right_on='postcodeid',\n",
        "    how='left'\n",
        ")"
      ]
    },
    {
      "cell_type": "code",
      "execution_count": null,
      "id": "32928540",
      "metadata": {
        "id": "32928540"
      },
      "outputs": [],
      "source": [
        "merged_conshops = cross_demographics.merge(\n",
        "    shops_df,\n",
        "    left_on='shopid',\n",
        "    right_on='shopid',\n",
        "    how='left'\n",
        ")"
      ]
    },
    {
      "cell_type": "code",
      "execution_count": null,
      "id": "4e59a4a5",
      "metadata": {
        "id": "4e59a4a5"
      },
      "outputs": [],
      "source": [
        "merged_conshops['km'] = np.random.uniform(2, 15, 1000)"
      ]
    },
    {
      "cell_type": "code",
      "execution_count": null,
      "id": "b2324b01",
      "metadata": {
        "id": "b2324b01",
        "outputId": "255724de-e17b-4689-a008-09bc1bce60f8"
      },
      "outputs": [
        {
          "data": {
            "text/html": [
              "<div>\n",
              "<style scoped>\n",
              "    .dataframe tbody tr th:only-of-type {\n",
              "        vertical-align: middle;\n",
              "    }\n",
              "\n",
              "    .dataframe tbody tr th {\n",
              "        vertical-align: top;\n",
              "    }\n",
              "\n",
              "    .dataframe thead th {\n",
              "        text-align: right;\n",
              "    }\n",
              "</style>\n",
              "<table border=\"1\" class=\"dataframe\">\n",
              "  <thead>\n",
              "    <tr style=\"text-align: right;\">\n",
              "      <th></th>\n",
              "      <th>postcodeid</th>\n",
              "      <th>income</th>\n",
              "      <th>population</th>\n",
              "      <th>vehicle</th>\n",
              "      <th>flats</th>\n",
              "      <th>shopid</th>\n",
              "      <th>size</th>\n",
              "      <th>smth</th>\n",
              "      <th>smth2</th>\n",
              "      <th>km</th>\n",
              "    </tr>\n",
              "  </thead>\n",
              "  <tbody>\n",
              "    <tr>\n",
              "      <th>0</th>\n",
              "      <td>0</td>\n",
              "      <td>45004</td>\n",
              "      <td>5208</td>\n",
              "      <td>0</td>\n",
              "      <td>23</td>\n",
              "      <td>0</td>\n",
              "      <td>382</td>\n",
              "      <td>2</td>\n",
              "      <td>8</td>\n",
              "      <td>7.511833</td>\n",
              "    </tr>\n",
              "    <tr>\n",
              "      <th>1</th>\n",
              "      <td>0</td>\n",
              "      <td>45004</td>\n",
              "      <td>5208</td>\n",
              "      <td>0</td>\n",
              "      <td>23</td>\n",
              "      <td>1</td>\n",
              "      <td>337</td>\n",
              "      <td>2</td>\n",
              "      <td>7</td>\n",
              "      <td>3.712100</td>\n",
              "    </tr>\n",
              "    <tr>\n",
              "      <th>2</th>\n",
              "      <td>0</td>\n",
              "      <td>45004</td>\n",
              "      <td>5208</td>\n",
              "      <td>0</td>\n",
              "      <td>23</td>\n",
              "      <td>2</td>\n",
              "      <td>464</td>\n",
              "      <td>3</td>\n",
              "      <td>5</td>\n",
              "      <td>11.674034</td>\n",
              "    </tr>\n",
              "    <tr>\n",
              "      <th>3</th>\n",
              "      <td>0</td>\n",
              "      <td>45004</td>\n",
              "      <td>5208</td>\n",
              "      <td>0</td>\n",
              "      <td>23</td>\n",
              "      <td>3</td>\n",
              "      <td>601</td>\n",
              "      <td>1</td>\n",
              "      <td>5</td>\n",
              "      <td>14.261164</td>\n",
              "    </tr>\n",
              "    <tr>\n",
              "      <th>4</th>\n",
              "      <td>0</td>\n",
              "      <td>45004</td>\n",
              "      <td>5208</td>\n",
              "      <td>0</td>\n",
              "      <td>23</td>\n",
              "      <td>4</td>\n",
              "      <td>446</td>\n",
              "      <td>1</td>\n",
              "      <td>5</td>\n",
              "      <td>4.149111</td>\n",
              "    </tr>\n",
              "  </tbody>\n",
              "</table>\n",
              "</div>"
            ],
            "text/plain": [
              "   postcodeid  income  population  vehicle  flats  shopid  size  smth  smth2  \\\n",
              "0           0   45004        5208        0     23       0   382     2      8   \n",
              "1           0   45004        5208        0     23       1   337     2      7   \n",
              "2           0   45004        5208        0     23       2   464     3      5   \n",
              "3           0   45004        5208        0     23       3   601     1      5   \n",
              "4           0   45004        5208        0     23       4   446     1      5   \n",
              "\n",
              "          km  \n",
              "0   7.511833  \n",
              "1   3.712100  \n",
              "2  11.674034  \n",
              "3  14.261164  \n",
              "4   4.149111  "
            ]
          },
          "execution_count": 82,
          "metadata": {},
          "output_type": "execute_result"
        }
      ],
      "source": [
        "merged_conshops.head()"
      ]
    },
    {
      "cell_type": "code",
      "execution_count": null,
      "id": "c2c62a2e",
      "metadata": {
        "id": "c2c62a2e"
      },
      "outputs": [],
      "source": [
        "merged_conshops['dist*vehicle'] = merged_conshops['km'] * merged_conshops['vehicle']\n",
        "merged_conshops['log(income)'] = np.log(merged_conshops['income'])\n",
        "merged_conshops['dist*log(inc)'] = merged_conshops['km'] * merged_conshops['log(income)']\n",
        "merged_conshops['log(size)'] = np.log(merged_conshops['size'])\n",
        "merged_conshops['log(size)*log(inc)'] = merged_conshops['log(size)'] * merged_conshops['log(income)']"
      ]
    },
    {
      "cell_type": "code",
      "execution_count": null,
      "id": "eca5a3e4",
      "metadata": {
        "id": "eca5a3e4",
        "outputId": "786a442b-b684-4a2b-c0af-0a172489fc72"
      },
      "outputs": [
        {
          "data": {
            "text/html": [
              "<div>\n",
              "<style scoped>\n",
              "    .dataframe tbody tr th:only-of-type {\n",
              "        vertical-align: middle;\n",
              "    }\n",
              "\n",
              "    .dataframe tbody tr th {\n",
              "        vertical-align: top;\n",
              "    }\n",
              "\n",
              "    .dataframe thead th {\n",
              "        text-align: right;\n",
              "    }\n",
              "</style>\n",
              "<table border=\"1\" class=\"dataframe\">\n",
              "  <thead>\n",
              "    <tr style=\"text-align: right;\">\n",
              "      <th></th>\n",
              "      <th>postcodeid</th>\n",
              "      <th>income</th>\n",
              "      <th>population</th>\n",
              "      <th>vehicle</th>\n",
              "      <th>flats</th>\n",
              "      <th>shopid</th>\n",
              "      <th>size</th>\n",
              "      <th>smth</th>\n",
              "      <th>smth2</th>\n",
              "      <th>km</th>\n",
              "      <th>dist*vehicle</th>\n",
              "      <th>log(income)</th>\n",
              "      <th>dist*log(inc)</th>\n",
              "      <th>log(size)</th>\n",
              "      <th>log(size)*log(inc)</th>\n",
              "    </tr>\n",
              "  </thead>\n",
              "  <tbody>\n",
              "    <tr>\n",
              "      <th>0</th>\n",
              "      <td>0</td>\n",
              "      <td>45004</td>\n",
              "      <td>5208</td>\n",
              "      <td>0</td>\n",
              "      <td>23</td>\n",
              "      <td>0</td>\n",
              "      <td>382</td>\n",
              "      <td>2</td>\n",
              "      <td>8</td>\n",
              "      <td>7.511833</td>\n",
              "      <td>0.0</td>\n",
              "      <td>10.714507</td>\n",
              "      <td>80.485583</td>\n",
              "      <td>5.945421</td>\n",
              "      <td>63.702249</td>\n",
              "    </tr>\n",
              "    <tr>\n",
              "      <th>1</th>\n",
              "      <td>0</td>\n",
              "      <td>45004</td>\n",
              "      <td>5208</td>\n",
              "      <td>0</td>\n",
              "      <td>23</td>\n",
              "      <td>1</td>\n",
              "      <td>337</td>\n",
              "      <td>2</td>\n",
              "      <td>7</td>\n",
              "      <td>3.712100</td>\n",
              "      <td>0.0</td>\n",
              "      <td>10.714507</td>\n",
              "      <td>39.773319</td>\n",
              "      <td>5.820083</td>\n",
              "      <td>62.359317</td>\n",
              "    </tr>\n",
              "    <tr>\n",
              "      <th>2</th>\n",
              "      <td>0</td>\n",
              "      <td>45004</td>\n",
              "      <td>5208</td>\n",
              "      <td>0</td>\n",
              "      <td>23</td>\n",
              "      <td>2</td>\n",
              "      <td>464</td>\n",
              "      <td>3</td>\n",
              "      <td>5</td>\n",
              "      <td>11.674034</td>\n",
              "      <td>0.0</td>\n",
              "      <td>10.714507</td>\n",
              "      <td>125.081512</td>\n",
              "      <td>6.139885</td>\n",
              "      <td>65.785834</td>\n",
              "    </tr>\n",
              "    <tr>\n",
              "      <th>3</th>\n",
              "      <td>0</td>\n",
              "      <td>45004</td>\n",
              "      <td>5208</td>\n",
              "      <td>0</td>\n",
              "      <td>23</td>\n",
              "      <td>3</td>\n",
              "      <td>601</td>\n",
              "      <td>1</td>\n",
              "      <td>5</td>\n",
              "      <td>14.261164</td>\n",
              "      <td>0.0</td>\n",
              "      <td>10.714507</td>\n",
              "      <td>152.801335</td>\n",
              "      <td>6.398595</td>\n",
              "      <td>68.557788</td>\n",
              "    </tr>\n",
              "    <tr>\n",
              "      <th>4</th>\n",
              "      <td>0</td>\n",
              "      <td>45004</td>\n",
              "      <td>5208</td>\n",
              "      <td>0</td>\n",
              "      <td>23</td>\n",
              "      <td>4</td>\n",
              "      <td>446</td>\n",
              "      <td>1</td>\n",
              "      <td>5</td>\n",
              "      <td>4.149111</td>\n",
              "      <td>0.0</td>\n",
              "      <td>10.714507</td>\n",
              "      <td>44.455673</td>\n",
              "      <td>6.100319</td>\n",
              "      <td>65.361908</td>\n",
              "    </tr>\n",
              "    <tr>\n",
              "      <th>5</th>\n",
              "      <td>0</td>\n",
              "      <td>45004</td>\n",
              "      <td>5208</td>\n",
              "      <td>0</td>\n",
              "      <td>23</td>\n",
              "      <td>5</td>\n",
              "      <td>328</td>\n",
              "      <td>1</td>\n",
              "      <td>7</td>\n",
              "      <td>7.570291</td>\n",
              "      <td>0.0</td>\n",
              "      <td>10.714507</td>\n",
              "      <td>81.111936</td>\n",
              "      <td>5.793014</td>\n",
              "      <td>62.069283</td>\n",
              "    </tr>\n",
              "    <tr>\n",
              "      <th>6</th>\n",
              "      <td>0</td>\n",
              "      <td>45004</td>\n",
              "      <td>5208</td>\n",
              "      <td>0</td>\n",
              "      <td>23</td>\n",
              "      <td>6</td>\n",
              "      <td>811</td>\n",
              "      <td>2</td>\n",
              "      <td>6</td>\n",
              "      <td>14.074904</td>\n",
              "      <td>0.0</td>\n",
              "      <td>10.714507</td>\n",
              "      <td>150.805652</td>\n",
              "      <td>6.698268</td>\n",
              "      <td>71.768638</td>\n",
              "    </tr>\n",
              "    <tr>\n",
              "      <th>7</th>\n",
              "      <td>0</td>\n",
              "      <td>45004</td>\n",
              "      <td>5208</td>\n",
              "      <td>0</td>\n",
              "      <td>23</td>\n",
              "      <td>7</td>\n",
              "      <td>281</td>\n",
              "      <td>2</td>\n",
              "      <td>8</td>\n",
              "      <td>11.541544</td>\n",
              "      <td>0.0</td>\n",
              "      <td>10.714507</td>\n",
              "      <td>123.661953</td>\n",
              "      <td>5.638355</td>\n",
              "      <td>60.412189</td>\n",
              "    </tr>\n",
              "    <tr>\n",
              "      <th>8</th>\n",
              "      <td>0</td>\n",
              "      <td>45004</td>\n",
              "      <td>5208</td>\n",
              "      <td>0</td>\n",
              "      <td>23</td>\n",
              "      <td>8</td>\n",
              "      <td>651</td>\n",
              "      <td>1</td>\n",
              "      <td>5</td>\n",
              "      <td>5.936013</td>\n",
              "      <td>0.0</td>\n",
              "      <td>10.714507</td>\n",
              "      <td>63.601446</td>\n",
              "      <td>6.478510</td>\n",
              "      <td>69.414035</td>\n",
              "    </tr>\n",
              "    <tr>\n",
              "      <th>9</th>\n",
              "      <td>0</td>\n",
              "      <td>45004</td>\n",
              "      <td>5208</td>\n",
              "      <td>0</td>\n",
              "      <td>23</td>\n",
              "      <td>9</td>\n",
              "      <td>260</td>\n",
              "      <td>1</td>\n",
              "      <td>8</td>\n",
              "      <td>8.952892</td>\n",
              "      <td>0.0</td>\n",
              "      <td>10.714507</td>\n",
              "      <td>95.925823</td>\n",
              "      <td>5.560682</td>\n",
              "      <td>59.579960</td>\n",
              "    </tr>\n",
              "  </tbody>\n",
              "</table>\n",
              "</div>"
            ],
            "text/plain": [
              "   postcodeid  income  population  vehicle  flats  shopid  size  smth  smth2  \\\n",
              "0           0   45004        5208        0     23       0   382     2      8   \n",
              "1           0   45004        5208        0     23       1   337     2      7   \n",
              "2           0   45004        5208        0     23       2   464     3      5   \n",
              "3           0   45004        5208        0     23       3   601     1      5   \n",
              "4           0   45004        5208        0     23       4   446     1      5   \n",
              "5           0   45004        5208        0     23       5   328     1      7   \n",
              "6           0   45004        5208        0     23       6   811     2      6   \n",
              "7           0   45004        5208        0     23       7   281     2      8   \n",
              "8           0   45004        5208        0     23       8   651     1      5   \n",
              "9           0   45004        5208        0     23       9   260     1      8   \n",
              "\n",
              "          km  dist*vehicle  log(income)  dist*log(inc)  log(size)  \\\n",
              "0   7.511833           0.0    10.714507      80.485583   5.945421   \n",
              "1   3.712100           0.0    10.714507      39.773319   5.820083   \n",
              "2  11.674034           0.0    10.714507     125.081512   6.139885   \n",
              "3  14.261164           0.0    10.714507     152.801335   6.398595   \n",
              "4   4.149111           0.0    10.714507      44.455673   6.100319   \n",
              "5   7.570291           0.0    10.714507      81.111936   5.793014   \n",
              "6  14.074904           0.0    10.714507     150.805652   6.698268   \n",
              "7  11.541544           0.0    10.714507     123.661953   5.638355   \n",
              "8   5.936013           0.0    10.714507      63.601446   6.478510   \n",
              "9   8.952892           0.0    10.714507      95.925823   5.560682   \n",
              "\n",
              "   log(size)*log(inc)  \n",
              "0           63.702249  \n",
              "1           62.359317  \n",
              "2           65.785834  \n",
              "3           68.557788  \n",
              "4           65.361908  \n",
              "5           62.069283  \n",
              "6           71.768638  \n",
              "7           60.412189  \n",
              "8           69.414035  \n",
              "9           59.579960  "
            ]
          },
          "execution_count": 84,
          "metadata": {},
          "output_type": "execute_result"
        }
      ],
      "source": [
        "merged_conshops.head(10)"
      ]
    },
    {
      "cell_type": "code",
      "execution_count": null,
      "id": "fdfc9bf2",
      "metadata": {
        "id": "fdfc9bf2"
      },
      "outputs": [],
      "source": [
        "def util(data, params):\n",
        "    '''\n",
        "    Calculates each agents utility from his/her set of alternatives\n",
        "    data: dataframe (data for estimation)\n",
        "    params: full array of updating parameters\n",
        "    '''\n",
        "    utilities = data.iloc[:, 9:].values.dot(params) #first 4 columns are 'shoptype', 'postcode', 'INDEX', 'shopid'\n",
        "    data = data.copy() #shitty move\n",
        "    data.loc[:, 'utility'] = utilities\n",
        "\n",
        "    # Outside optionn credentials\n",
        "    postcodes0 = list(set(data['postcodeid'].astype(int)))\n",
        "    utilities0 = [0] * len(postcodes0)\n",
        "    outsideData = pd.DataFrame({'postcodeid': postcodes0, 'utility': utilities0})\n",
        "\n",
        "    dataWithUtilities = (pd.concat([data, outsideData], sort=False)\n",
        "              .sort_values(by='postcodeid')\n",
        "              .reset_index()\n",
        "              .fillna(0)\n",
        "            ) #data with all necessaary utilities\n",
        "\n",
        "    return dataWithUtilities"
      ]
    },
    {
      "cell_type": "code",
      "execution_count": null,
      "id": "20b4ad6e",
      "metadata": {
        "id": "20b4ad6e"
      },
      "outputs": [],
      "source": [
        "# initialize the parameters\n",
        "params = [i for i in range(6)]"
      ]
    },
    {
      "cell_type": "code",
      "execution_count": null,
      "id": "84636ee6",
      "metadata": {
        "id": "84636ee6"
      },
      "outputs": [],
      "source": [
        "dataUtil = util(merged_conshops, params)"
      ]
    },
    {
      "cell_type": "code",
      "execution_count": null,
      "id": "528b1241",
      "metadata": {
        "id": "528b1241"
      },
      "outputs": [],
      "source": [
        "import numpy as np\n",
        "\n",
        "def data_revenue(data, params):\n",
        "    '''\n",
        "    Calculates all of the revenue credentials and values\n",
        "    data: estimation data\n",
        "    params: full array of updating params\n",
        "    Output: utilData and revenue_array for calculations in next steps\n",
        "    '''\n",
        "    utilities_dict = {}\n",
        "    incomes_dict = {}\n",
        "    households_dict = {}\n",
        "\n",
        "    for index, row in data.iterrows():\n",
        "        consumer_id = row['postcodeid']\n",
        "        product_id = row['shopid']\n",
        "        utility = row['utility']\n",
        "        income = row['income']\n",
        "        household = row['flats']\n",
        "\n",
        "        if consumer_id in utilities_dict or consumer_id in incomes_dict or consumer_id in households_dict:\n",
        "            utilities_dict[consumer_id].append(utility)\n",
        "            incomes_dict[consumer_id].append(income)\n",
        "            households_dict[consumer_id].append(household)\n",
        "        else:\n",
        "            utilities_dict[consumer_id] = [utility]\n",
        "            incomes_dict[consumer_id] = [income]\n",
        "            households_dict[consumer_id] = [household]\n",
        "\n",
        "    probabilities_dict = {}\n",
        "    revenues_dict = {}\n",
        "    for consumer_id in utilities_dict:\n",
        "        utilities = (np.array(utilities_dict[consumer_id]) - np.min(utilities_dict[consumer_id])) / (np.max(utilities_dict[consumer_id]) - np.min(utilities_dict[consumer_id]))\n",
        "        utilities_ccp = np.exp(utilities) / (np.sum(np.exp(utilities)) + 1e-3)\n",
        "        probabilities_dict[consumer_id] = utilities_ccp\n",
        "\n",
        "        revenue = np.array(params[-1]) * np.array(incomes_dict[consumer_id]) * np.array(households_dict[consumer_id]) * probabilities_dict[consumer_id]\n",
        "        revenues_dict[consumer_id] = revenue\n",
        "\n",
        "    revenues_array = np.concatenate(list(revenues_dict.values()))\n",
        "\n",
        "    return data, revenues_array\n"
      ]
    },
    {
      "cell_type": "code",
      "execution_count": null,
      "id": "35884e0c",
      "metadata": {
        "id": "35884e0c"
      },
      "outputs": [],
      "source": [
        "dataUtil, revenue_array = data_revenue(dataUtil, params)"
      ]
    },
    {
      "cell_type": "code",
      "execution_count": null,
      "id": "fb93ca8b",
      "metadata": {
        "id": "fb93ca8b"
      },
      "outputs": [],
      "source": []
    }
  ],
  "metadata": {
    "kernelspec": {
      "display_name": "Python 3 (ipykernel)",
      "language": "python",
      "name": "python3"
    },
    "language_info": {
      "codemirror_mode": {
        "name": "ipython",
        "version": 3
      },
      "file_extension": ".py",
      "mimetype": "text/x-python",
      "name": "python",
      "nbconvert_exporter": "python",
      "pygments_lexer": "ipython3",
      "version": "3.9.13"
    },
    "colab": {
      "provenance": []
    }
  },
  "nbformat": 4,
  "nbformat_minor": 5
}