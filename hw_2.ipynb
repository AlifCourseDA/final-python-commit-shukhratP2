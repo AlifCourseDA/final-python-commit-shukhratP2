{
  "nbformat": 4,
  "nbformat_minor": 0,
  "metadata": {
    "colab": {
      "provenance": []
    },
    "kernelspec": {
      "name": "python3",
      "display_name": "Python 3"
    },
    "language_info": {
      "name": "python"
    }
  },
  "cells": [
    {
      "cell_type": "code",
      "execution_count": null,
      "metadata": {
        "id": "dJab7Ec50u6b"
      },
      "outputs": [],
      "source": []
    },
    {
      "cell_type": "markdown",
      "source": [
        "#Просто здравствуй, просто как дела\n"
      ],
      "metadata": {
        "id": "z_z_lOup0yOC"
      }
    },
    {
      "cell_type": "code",
      "source": [
        "user_name = input()\n",
        "mood = input()\n",
        "\n",
        "print(\"Как Вас зовут?\")\n",
        "print(f\"Здравствуйте, {user_name}!\")\n",
        "print(\"Как дела?\")\n",
        "\n",
        "if mood == \"хорошо\":\n",
        "    print(\"Я за вас рада!\")\n",
        "elif mood == \"плохо\":\n",
        "    print(\"Всё наладится!\")\n"
      ],
      "metadata": {
        "id": "dUcMlBfN04Z2"
      },
      "execution_count": null,
      "outputs": []
    },
    {
      "cell_type": "markdown",
      "source": [
        "#Кто быстрее на этот раз?\n"
      ],
      "metadata": {
        "id": "jrobGuQv063l"
      }
    },
    {
      "cell_type": "code",
      "source": [
        "speed_petya = int(input())\n",
        "speed_vasya = int(input())\n",
        "speed_tolya = int(input())\n",
        "\n",
        "time_petya = 43872 / speed_petya\n",
        "time_vasya = 43872 / speed_vasya\n",
        "time_tolya = 43872 / speed_tolya\n",
        "\n",
        "if time_petya < time_vasya and time_petya < time_tolya:\n",
        "    print(\"Петя\")\n",
        "elif time_vasya < time_petya and time_vasya < time_tolya:\n",
        "    print(\"Вася\")\n",
        "else:\n",
        "    print(\"Толя\")\n"
      ],
      "metadata": {
        "id": "_PCqrohB1J2T"
      },
      "execution_count": null,
      "outputs": []
    },
    {
      "cell_type": "markdown",
      "source": [
        "#Яблоки"
      ],
      "metadata": {
        "id": "hABYwccU1bGn"
      }
    },
    {
      "cell_type": "code",
      "source": [
        "apples_to_peter = int(input())\n",
        "apples_to_vasya = int(input())\n",
        "\n",
        "apples_peter = 7\n",
        "apples_vasya = 6\n",
        "\n",
        "\n",
        "apples_peter -= 3\n",
        "apples_peter += 2\n",
        "apples_vasya += 5\n",
        "apples_vasya -= 2\n",
        "apples_peter += apples_to_peter\n",
        "apples_vasya += apples_to_vasya\n",
        "\n",
        "\n",
        "if apples_peter > apples_vasya:\n",
        "    print(\"Петя\")\n",
        "else:\n",
        "    print(\"Вася\")\n"
      ],
      "metadata": {
        "id": "-tAJf-u41eG1"
      },
      "execution_count": null,
      "outputs": []
    },
    {
      "cell_type": "markdown",
      "source": [
        "#Лучшая защита — шифрование\n"
      ],
      "metadata": {
        "id": "ZSW4tMaN1j6S"
      }
    },
    {
      "cell_type": "code",
      "source": [
        "r = int(input())\n",
        "i = r % 10 + r // 10 % 10\n",
        "u = r // 100 + r // 10 % 10\n",
        "if i > u:\n",
        "    print(f'{i}{u}')\n",
        "else:\n",
        "    print(f'{u}{i}')\n"
      ],
      "metadata": {
        "id": "3GxMWvqa1nBp"
      },
      "execution_count": null,
      "outputs": []
    },
    {
      "cell_type": "code",
      "source": [],
      "metadata": {
        "id": "ktPtqpVA1oaO"
      },
      "execution_count": null,
      "outputs": []
    },
    {
      "cell_type": "markdown",
      "source": [
        "#Властелин Чисел: Две Башни\n"
      ],
      "metadata": {
        "id": "VMNB__Wa20Ma"
      }
    },
    {
      "cell_type": "code",
      "source": [
        "z = input()\n",
        "x = min(z[0], z[1], z[2])\n",
        "c = max(z[0], z[1], z[2])\n",
        "b = z[0]\n",
        "n = z[1]\n",
        "m = z[2]\n",
        "if b < n < m or m < n < b:\n",
        "    v = n\n",
        "elif b == n and n > m:\n",
        "    v = n\n",
        "elif b == n and n < m:\n",
        "    v = n\n",
        "elif m == n and n > b:\n",
        "    v = n\n",
        "elif m == n and n < b:\n",
        "    v = n\n",
        "elif n < b < m or m < b < n:\n",
        "    v = b\n",
        "elif b == n and b > m:\n",
        "    v = b\n",
        "elif b == n and b < m:\n",
        "    v = b\n",
        "elif n < m < b or b < m < n:\n",
        "    v = m\n",
        "elif m == b and b > n:\n",
        "    v = b\n",
        "elif m == b and b < n:\n",
        "    v = b\n",
        "elif b == n and b == m:\n",
        "    v = n\n",
        "if x == '0' and not v =='0':\n",
        "    print(v + x, c + v)\n",
        "elif x == '0' and v == '0':\n",
        "    print(c + v, c + x)\n",
        "elif v == c:\n",
        "    print(x + c, c + v)\n",
        "elif v == '0':\n",
        "    print(c + x, c + x)\n",
        "else:\n",
        "    print(x+v, c+v)"
      ],
      "metadata": {
        "id": "-N1-KrSN21GZ"
      },
      "execution_count": null,
      "outputs": []
    },
    {
      "cell_type": "markdown",
      "source": [
        "#Корень зла\n"
      ],
      "metadata": {
        "id": "ak_6B7Jj3Kn3"
      }
    },
    {
      "cell_type": "code",
      "source": [
        "a = float(input())\n",
        "b = float(input())\n",
        "c = float(input())\n",
        "d = b2 - 4 * a * c\n",
        "if a == 0.0 and b == 0.0 and c == 0:\n",
        "print(\"Infinite solutions\")\n",
        "elif a == 0.0 and b != 0.0:\n",
        "print(f\"{ - c / b:.2f}\")\n",
        "elif d > 0 and a != 0.0:\n",
        "x1 = (-b - d0.5) / (2 * a)\n",
        "x2 = (-b + d**0.5) / (2 * a)\n",
        "if x1 < x2:\n",
        "print(f\"{x1:.2f} {x2:.2f}\")\n",
        "else:\n",
        "print(f\"{x2:.2f} {x1:.2f}\")\n",
        "elif d == 0 and a != 0.0:\n",
        "print(f\"{-b / (2 * a):.2f}\")\n",
        "else:\n",
        "print(\"No solution\")"
      ],
      "metadata": {
        "id": "vZTvVmxp3LFH"
      },
      "execution_count": null,
      "outputs": []
    },
    {
      "cell_type": "markdown",
      "source": [
        "#Считалочка"
      ],
      "metadata": {
        "id": "Rmve7zE53Pgl"
      }
    },
    {
      "cell_type": "code",
      "source": [
        "\n",
        "start_number = int(input())\n",
        "end_number = int(input())\n",
        "\n",
        "\n",
        "result = \" \".join(map(str, range(start_number, end_number + 1)))\n",
        "print(result)\n"
      ],
      "metadata": {
        "id": "Il3vE08Y3TPn"
      },
      "execution_count": null,
      "outputs": []
    },
    {
      "cell_type": "markdown",
      "source": [
        "#Внимание! Акция!\n"
      ],
      "metadata": {
        "id": "3AgstMBO3U-j"
      }
    },
    {
      "cell_type": "code",
      "source": [
        "\n",
        "product_prices = []\n",
        "while True:\n",
        "    price = float(input())\n",
        "    if price == 0:\n",
        "        break\n",
        "    product_prices.append(price)\n",
        "\n",
        "\n",
        "total_cost = sum(product_prices)\n",
        "\n",
        "\n",
        "if total_cost >= 500:\n",
        "    total_cost *= 0.9\n",
        "\n",
        "\n",
        "print(total_cost)\n"
      ],
      "metadata": {
        "id": "phiAll3G3Xtj"
      },
      "execution_count": null,
      "outputs": []
    },
    {
      "cell_type": "markdown",
      "source": [
        "#НОК\n"
      ],
      "metadata": {
        "id": "Fw1zYYld3ZeE"
      }
    },
    {
      "cell_type": "code",
      "source": [
        "\n",
        "a = int(input())\n",
        "b = int(input())\n",
        "\n",
        "\n",
        "def gcd(x, y):\n",
        "    while y:\n",
        "        x, y = y, x % y\n",
        "    return x\n",
        "\n",
        "\n",
        "lcm = (a * b) // gcd(a, b)\n",
        "\n",
        "\n",
        "print(lcm)\n",
        "\n"
      ],
      "metadata": {
        "id": "gLlEj21w3mhg"
      },
      "execution_count": null,
      "outputs": []
    },
    {
      "cell_type": "markdown",
      "source": [
        "#Факториал"
      ],
      "metadata": {
        "id": "bKBvpUWC3nwX"
      }
    },
    {
      "cell_type": "code",
      "source": [
        "\n",
        "n = int(input())\n",
        "\n",
        "\n",
        "def factorial(x):\n",
        "    if x == 0:\n",
        "        return 1\n",
        "    else:\n",
        "        return x * factorial(x - 1)\n",
        "\n",
        "\n",
        "result = factorial(n)\n",
        "print(result)\n"
      ],
      "metadata": {
        "id": "YmspaW8K3tjq"
      },
      "execution_count": null,
      "outputs": []
    },
    {
      "cell_type": "markdown",
      "source": [
        "#Цифровая сумма\n"
      ],
      "metadata": {
        "id": "CBUyoUgl3vOP"
      }
    },
    {
      "cell_type": "code",
      "source": [
        "\n",
        "number = int(input())\n",
        "\n",
        "\n",
        "def digital_sum(num):\n",
        "    return sum(map(int, str(num)))\n",
        "\n",
        "\n",
        "result = digital_sum(number)\n",
        "print(result)\n"
      ],
      "metadata": {
        "id": "OGYSnuro3ySK"
      },
      "execution_count": null,
      "outputs": []
    },
    {
      "cell_type": "markdown",
      "source": [
        "#Простая задача\n"
      ],
      "metadata": {
        "id": "-woKo3tK3zht"
      }
    },
    {
      "cell_type": "code",
      "source": [
        "\n",
        "number = int(input())\n",
        "\n",
        "\n",
        "def is_prime(num):\n",
        "    if num < 2:\n",
        "        return False\n",
        "    for i in range(2, int(num**0.5) + 1):\n",
        "        if num % i == 0:\n",
        "            return False\n",
        "    return True\n",
        "\n",
        "\n",
        "if is_prime(number):\n",
        "    print(\"YES\")\n",
        "else:\n",
        "    print(\"NO\")\n"
      ],
      "metadata": {
        "id": "Onkq3vaX31sv"
      },
      "execution_count": null,
      "outputs": []
    },
    {
      "cell_type": "markdown",
      "source": [
        "#А роза упала на лапу Азора 2.0\n"
      ],
      "metadata": {
        "id": "RlXrUEjB33uG"
      }
    },
    {
      "cell_type": "code",
      "source": [
        "\n",
        "number = input()\n",
        "\n",
        "\n",
        "if number == number[::-1]:\n",
        "    print(\"YES\")\n",
        "else:\n",
        "    print(\"NO\")\n"
      ],
      "metadata": {
        "id": "rSvBkkkl36BJ"
      },
      "execution_count": null,
      "outputs": []
    },
    {
      "cell_type": "markdown",
      "source": [
        "#Чётная чистота\n"
      ],
      "metadata": {
        "id": "1gYBWiUT3-wK"
      }
    },
    {
      "cell_type": "code",
      "source": [
        "\n",
        "number = input()\n",
        "\n",
        "result = ''.join(char for char in number if int(char) % 2 != 0)\n",
        "\n",
        "print(result)\n"
      ],
      "metadata": {
        "id": "SGl3Ilm84BMt"
      },
      "execution_count": null,
      "outputs": []
    },
    {
      "cell_type": "markdown",
      "source": [
        "#Хайпанём немножечко!\n"
      ],
      "metadata": {
        "id": "rg___x1p4Ff7"
      }
    },
    {
      "cell_type": "code",
      "source": [
        "\n",
        "N = int(input())\n",
        "\n",
        "\n",
        "def is_valid_hash(hash_value, previous_hash, m):\n",
        "    calculated_hash = (37 * (m + hash_value + previous_hash)) % 256\n",
        "    return calculated_hash < 100\n",
        "\n",
        "\n",
        "previous_hash = 0\n",
        "\n",
        "\n",
        "for i in range(N):\n",
        "    block_data = int(input())\n",
        "    r = block_data // 256\n",
        "    m = block_data % 256\n",
        "\n",
        "    if not is_valid_hash(r, previous_hash, m):\n",
        "        print(i)\n",
        "        break\n",
        "\n",
        "    previous_hash = (37 * (m + r + previous_hash)) % 256\n",
        "else:\n",
        "    print(-1)\n"
      ],
      "metadata": {
        "id": "V6qpKaEZ4Itg"
      },
      "execution_count": null,
      "outputs": []
    },
    {
      "cell_type": "markdown",
      "source": [
        "#Числовой прямоугольник\n"
      ],
      "metadata": {
        "id": "tY9gJIUw4Kck"
      }
    },
    {
      "cell_type": "code",
      "source": [
        "\n",
        "height = int(input())\n",
        "width = int(input())\n",
        "\n",
        "\n",
        "counter = 1\n",
        "\n",
        "\n",
        "for i in range(height):\n",
        "    for j in range(width):\n",
        "        print(counter, end=\" \")\n",
        "        counter += 1\n",
        "    print()\n"
      ],
      "metadata": {
        "id": "Seu7oDwv4NK0"
      },
      "execution_count": null,
      "outputs": []
    },
    {
      "cell_type": "markdown",
      "source": [
        "#Простая задача 3.0\n"
      ],
      "metadata": {
        "id": "eiCTJR8U4OuB"
      }
    },
    {
      "cell_type": "code",
      "source": [
        "\n",
        "N = int(input())\n",
        "\n",
        "\n",
        "def is_prime(num):\n",
        "    if num < 2:\n",
        "        return False\n",
        "    for i in range(2, int(num**0.5) + 1):\n",
        "        if num % i == 0:\n",
        "            return False\n",
        "    return True\n",
        "\n",
        "\n",
        "prime_count = sum(is_prime(int(input())) for _ in range(N - 1))\n",
        "\n",
        "\n",
        "print(prime_count)\n"
      ],
      "metadata": {
        "id": "MOfWgGkC4Q53"
      },
      "execution_count": null,
      "outputs": []
    }
  ]
}