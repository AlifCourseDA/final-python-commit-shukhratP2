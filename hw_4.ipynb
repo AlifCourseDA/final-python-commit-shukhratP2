{
  "nbformat": 4,
  "nbformat_minor": 0,
  "metadata": {
    "colab": {
      "provenance": []
    },
    "kernelspec": {
      "name": "python3",
      "display_name": "Python 3"
    },
    "language_info": {
      "name": "python"
    }
  },
  "cells": [
    {
      "cell_type": "code",
      "execution_count": null,
      "metadata": {
        "id": "7Ug_-D0z_jVp"
      },
      "outputs": [],
      "source": []
    },
    {
      "cell_type": "markdown",
      "source": [
        "#Азбука"
      ],
      "metadata": {
        "id": "SOW-wTTl_j9d"
      }
    },
    {
      "cell_type": "code",
      "source": [
        "def check_first_letter(words):\n",
        "    first_letters = set([\"А\", \"Б\", \"В\"])\n",
        "\n",
        "    for word in words:\n",
        "        if word[0].upper() not in first_letters:\n",
        "            return \"NO\"\n",
        "\n",
        "    return \"YES\"\n",
        "\n",
        "n = int(input())\n",
        "\n",
        "word_list = [input().strip() for _ in range(n)]\n",
        "\n",
        "result = check_first_letter(word_list)\n",
        "\n",
        "print(result)\n"
      ],
      "metadata": {
        "id": "dE2X9tdZ_mhN"
      },
      "execution_count": null,
      "outputs": []
    },
    {
      "cell_type": "markdown",
      "source": [
        "#Анонс новости\n"
      ],
      "metadata": {
        "id": "jFhz4tJX_n2U"
      }
    },
    {
      "cell_type": "code",
      "source": [
        "def shorten_headlines(length, num_headlines, headlines):\n",
        "    shortened_headlines = []\n",
        "\n",
        "    for headline in headlines:\n",
        "        if len(headline) <= length:\n",
        "            shortened_headlines.append(headline)\n",
        "        else:\n",
        "            shortened_headline = headline[:length - 3] + \"...\"\n",
        "            shortened_headlines.append(shortened_headline)\n",
        "\n",
        "    return shortened_headlines\n",
        "\n",
        "required_length = int(input())\n",
        "num_headlines = int(input())\n",
        "\n",
        "headlines_list = [input().strip() for _ in range(num_headlines)]\n",
        "\n",
        "result = shorten_headlines(required_length, num_headlines, headlines_list)\n",
        "\n",
        "for shortened_headline in result:\n",
        "    print(shortened_headline)\n"
      ],
      "metadata": {
        "id": "3rnPt5EO_p4s"
      },
      "execution_count": null,
      "outputs": []
    },
    {
      "cell_type": "code",
      "source": [],
      "metadata": {
        "id": "VLQJen5I_sBH"
      },
      "execution_count": null,
      "outputs": []
    },
    {
      "cell_type": "markdown",
      "source": [
        "#Очистка данных\n"
      ],
      "metadata": {
        "id": "C3N043BZ_s9o"
      }
    },
    {
      "cell_type": "code",
      "source": [
        "def clean_logs(logs):\n",
        "    cleaned_logs = []\n",
        "\n",
        "    for log in logs:\n",
        "        if log[:2] == '##':\n",
        "            log = log[2:]\n",
        "\n",
        "        if log.endswith('@@@'):\n",
        "            continue\n",
        "\n",
        "        cleaned_logs.append(log)\n",
        "\n",
        "    return cleaned_logs\n",
        "\n",
        "logs_input = []\n",
        "while True:\n",
        "    log_line = input().strip()\n",
        "    if not log_line:\n",
        "        break\n",
        "    logs_input.append(log_line)\n",
        "\n",
        "result_logs = clean_logs(logs_input)\n",
        "\n",
        "for cleaned_log in result_logs:\n",
        "    print(cleaned_log)\n"
      ],
      "metadata": {
        "id": "qrW2aoTZ_vCX"
      },
      "execution_count": null,
      "outputs": []
    },
    {
      "cell_type": "markdown",
      "source": [
        "#Без комментариев\n"
      ],
      "metadata": {
        "id": "sR0JSYTd_wjy"
      }
    },
    {
      "cell_type": "code",
      "source": [
        "def remove_comments(code_lines):\n",
        "    cleaned_code = []\n",
        "\n",
        "    for line in code_lines:\n",
        "        if '#' in line:\n",
        "            line = line.split('#', 1)[0].rstrip()\n",
        "\n",
        "        if line:\n",
        "            cleaned_code.append(line)\n",
        "\n",
        "    return cleaned_code\n",
        "\n",
        "code_input = []\n",
        "while True:\n",
        "    code_line = input()\n",
        "    if not code_line:\n",
        "        break\n",
        "    code_input.append(code_line)\n",
        "\n",
        "result_code = remove_comments(code_input)\n",
        "\n",
        "for cleaned_line in result_code:\n",
        "    print(cleaned_line)\n",
        "\n"
      ],
      "metadata": {
        "id": "KeSOW1lo_y69"
      },
      "execution_count": null,
      "outputs": []
    },
    {
      "cell_type": "markdown",
      "source": [
        "#Частотный анализ на минималках\n"
      ],
      "metadata": {
        "id": "4TaJFRg0_1IJ"
      }
    },
    {
      "cell_type": "code",
      "source": [
        "def frequency_analysis(lines):\n",
        "    char_count = {}\n",
        "\n",
        "    for line in lines:\n",
        "        for char in line:\n",
        "            if char.isalpha():\n",
        "                char = char.lower()\n",
        "                char_count[char] = char_count.get(char, 0) + 1\n",
        "\n",
        "    most_common_char = min(char_count, key=lambda k: (-char_count[k], k))\n",
        "    return most_common_char\n",
        "\n",
        "input_lines = []\n",
        "while True:\n",
        "    line = input().strip()\n",
        "    if line == \"ФИНИШ\":\n",
        "        break\n",
        "    input_lines.append(line)\n",
        "\n",
        "result = frequency_analysis(input_lines)\n",
        "\n",
        "print(result)\n"
      ],
      "metadata": {
        "id": "7_zNRgeo_3y2"
      },
      "execution_count": null,
      "outputs": []
    },
    {
      "cell_type": "markdown",
      "source": [
        "#Массовое возведение в степень\n"
      ],
      "metadata": {
        "id": "9DKRzsrU_5UM"
      }
    },
    {
      "cell_type": "code",
      "source": [
        "n = int(input())\n",
        "\n",
        "numbers = [int(input()) for _ in range(n)]\n",
        "\n",
        "power = int(input())\n",
        "\n",
        "for number in numbers:\n",
        "    result = number ** power\n",
        "    print(result)\n"
      ],
      "metadata": {
        "id": "QypP8Cyd_7_u"
      },
      "execution_count": null,
      "outputs": []
    },
    {
      "cell_type": "markdown",
      "source": [
        "#НОД 3.0\n"
      ],
      "metadata": {
        "id": "EduT0mUQ_9hp"
      }
    },
    {
      "cell_type": "code",
      "source": [
        "def gcd(a, b):\n",
        "    while b:\n",
        "        a, b = b, a % b\n",
        "    return a\n",
        "\n",
        "numbers = list(map(int, input().split()))\n",
        "\n",
        "result_gcd = numbers[0]\n",
        "\n",
        "for num in numbers[1:]:\n",
        "    result_gcd = gcd(result_gcd, num)\n",
        "\n",
        "print(result_gcd)\n"
      ],
      "metadata": {
        "id": "QVF-_buX__VK"
      },
      "execution_count": null,
      "outputs": []
    },
    {
      "cell_type": "markdown",
      "source": [
        "#RLE"
      ],
      "metadata": {
        "id": "trrz7fyGAB0e"
      }
    },
    {
      "cell_type": "code",
      "source": [
        "def rle_encode(input_string):\n",
        "    encoded_result = []\n",
        "\n",
        "    count = 1\n",
        "    for i in range(1, len(input_string)):\n",
        "        if input_string[i] == input_string[i - 1]:\n",
        "            count += 1\n",
        "        else:\n",
        "            encoded_result.append((input_string[i - 1], count))\n",
        "            count = 1\n",
        "\n",
        "    encoded_result.append((input_string[-1], count))\n",
        "\n",
        "    return encoded_result\n",
        "\n",
        "input_string = input().strip()\n",
        "\n",
        "result = rle_encode(input_string)\n",
        "\n",
        "for item in result:\n",
        "    print(f\"{item[0]} {item[1]}\")\n"
      ],
      "metadata": {
        "id": "Le0P5SH6AH0e"
      },
      "execution_count": null,
      "outputs": []
    },
    {
      "cell_type": "markdown",
      "source": [
        "#Символическая разница\n"
      ],
      "metadata": {
        "id": "jME6UXD9AKQC"
      }
    },
    {
      "cell_type": "code",
      "source": [
        "str1 = input().strip()\n",
        "str2 = input().strip()\n",
        "\n",
        "set1 = set(str1)\n",
        "set2 = set(str2)\n",
        "\n",
        "common_characters = set1.intersection(set2)\n",
        "result = ''.join(sorted(common_characters))\n",
        "print(result)\n"
      ],
      "metadata": {
        "id": "vFFl9PxLAMzr"
      },
      "execution_count": null,
      "outputs": []
    },
    {
      "cell_type": "markdown",
      "source": [
        "#Зайка — 8\n"
      ],
      "metadata": {
        "id": "TuM3p1XgAOfO"
      }
    },
    {
      "cell_type": "code",
      "source": [
        "n = int(input())\n",
        "\n",
        "objects_set = set()\n",
        "\n",
        "for _ in range(n):\n",
        "    description = input().split()\n",
        "\n",
        "    objects_set.update(description)\n",
        "\n",
        "for obj in sorted(objects_set):\n",
        "    print(obj)\n"
      ],
      "metadata": {
        "id": "7vDsoQQ4AQuK"
      },
      "execution_count": null,
      "outputs": []
    },
    {
      "cell_type": "markdown",
      "source": [
        "#Кашееды"
      ],
      "metadata": {
        "id": "YK2DqBg3ASMu"
      }
    },
    {
      "cell_type": "code",
      "source": [
        "n = int(input())\n",
        "m = int(input())\n",
        "\n",
        "manna_set = set()\n",
        "ovsya_set = set()\n",
        "\n",
        "for _ in range(n):\n",
        "    manna_set.add(input())\n",
        "\n",
        "for _ in range(m):\n",
        "    ovsya_set.add(input())\n",
        "\n",
        "common_set = manna_set.intersection(ovsya_set)\n",
        "\n",
        "if common_set:\n",
        "    print(len(common_set))\n",
        "else:\n",
        "    print(\"Таких нет\")\n"
      ],
      "metadata": {
        "id": "wvzjINYtAUbL"
      },
      "execution_count": null,
      "outputs": []
    },
    {
      "cell_type": "markdown",
      "source": [
        "#Зайка — 9\n"
      ],
      "metadata": {
        "id": "VSrcjX6QAWQR"
      }
    },
    {
      "cell_type": "code",
      "source": [
        "from collections import Counter\n",
        "\n",
        "objects_counter = Counter()\n",
        "\n",
        "while True:\n",
        "    description = input().split()\n",
        "\n",
        "    if not description:\n",
        "        break\n",
        "\n",
        "    objects_counter.update(description)\n",
        "\n",
        "for obj, count in objects_counter.items():\n",
        "    print(f\"{obj} {count}\")\n"
      ],
      "metadata": {
        "id": "NzOo5KW7ACGY"
      },
      "execution_count": null,
      "outputs": []
    },
    {
      "cell_type": "markdown",
      "source": [
        "#Транслитерация\n"
      ],
      "metadata": {
        "id": "n6nkh77DAbCv"
      }
    },
    {
      "cell_type": "code",
      "source": [
        "def transliterate(char):\n",
        "    translit_dict = {\n",
        "        'А': 'A', 'Б': 'B', 'В': 'V', 'Г': 'G', 'Д': 'D', 'Е': 'E', 'Ё': 'E',\n",
        "        'Ж': 'ZH', 'З': 'Z', 'И': 'I', 'Й': 'I', 'К': 'K', 'Л': 'L', 'М': 'M',\n",
        "        'Н': 'N', 'О': 'O', 'П': 'P', 'Р': 'R', 'С': 'S', 'Т': 'T', 'У': 'U',\n",
        "        'Ф': 'F', 'Х': 'KH', 'Ц': 'TC', 'Ч': 'CH', 'Ш': 'SH', 'Щ': 'SHCH',\n",
        "        'Ы': 'Y', 'Э': 'E', 'Ю': 'IU', 'Я': 'IA',\n",
        "        'а': 'a', 'б': 'b', 'в': 'v', 'г': 'g', 'д': 'd', 'е': 'e', 'ё': 'e',\n",
        "        'ж': 'zh', 'з': 'z', 'и': 'i', 'й': 'i', 'к': 'k', 'л': 'l', 'м': 'm',\n",
        "        'н': 'n', 'о': 'o', 'п': 'p', 'р': 'r', 'с': 's', 'т': 't', 'у': 'u',\n",
        "        'ф': 'f', 'х': 'kh', 'ц': 'tc', 'ч': 'ch', 'ш': 'sh', 'щ': 'shch',\n",
        "        'ы': 'y', 'э': 'e', 'ю': 'iu', 'я': 'ia'\n",
        "    }\n",
        "\n",
        "    return translit_dict.get(char, char)\n",
        "\n",
        "def transliterate_text(text):\n",
        "    result = ''.join(transliterate(char) for char in text)\n",
        "\n",
        "    return result\n",
        "\n",
        "russian_text = input()\n",
        "\n",
        "transliterated_text = transliterate_text(russian_text)\n",
        "print(transliterated_text)\n"
      ],
      "metadata": {
        "id": "7U0AW7VXAc4Y"
      },
      "execution_count": null,
      "outputs": []
    },
    {
      "cell_type": "markdown",
      "source": [
        "#Однофамильцы — 2\n"
      ],
      "metadata": {
        "id": "kIZm1DnqAfvF"
      }
    },
    {
      "cell_type": "code",
      "source": [
        "def find_one_name_families(men_names):\n",
        "    family_count = {}\n",
        "\n",
        "    for name in men_names:\n",
        "        if name in family_count:\n",
        "            family_count[name] += 1\n",
        "        else:\n",
        "            family_count[name] = 1\n",
        "\n",
        "    one_name_families = {k: v for k, v in family_count.items() if v > 1}\n",
        "\n",
        "    return one_name_families\n",
        "\n",
        "n = int(input())\n",
        "men_names = [input() for _ in range(n)]\n",
        "\n",
        "one_name_families = find_one_name_families(men_names)\n",
        "\n",
        "if one_name_families:\n",
        "    for name, count in sorted(one_name_families.items()):\n",
        "        pr\n"
      ],
      "metadata": {
        "id": "LrKcbtyKAiVU"
      },
      "execution_count": null,
      "outputs": []
    },
    {
      "cell_type": "markdown",
      "source": [
        "#Простая задача 4.0\n"
      ],
      "metadata": {
        "id": "4W8gC9npAjr4"
      }
    },
    {
      "cell_type": "code",
      "source": [
        "def gcd(a, b):\n",
        "    while b:\n",
        "        a, b = b, a % b\n",
        "    return a\n",
        "\n",
        "def find_mutually_prime(numbers):\n",
        "    result_dict = {}\n",
        "\n",
        "    for num in numbers:\n",
        "        mutually_prime = [other_num for other_num in numbers if gcd(num, other_num) == 1 and num != other_num]\n",
        "        if mutually_prime:\n",
        "            result_dict[num] = mutually_prime\n",
        "\n",
        "    return result_dict\n",
        "\n",
        "input_numbers = input().split(\"; \")\n",
        "numbers = list(map(int, input_numbers))\n",
        "\n",
        "result_dict = find_mutually_prime(numbers)\n",
        "\n",
        "for num, mutually_prime_list in sorted(result_dict.items()):\n",
        "    print(f\"{num} - {', '.join(map(str, mutually_prime_list))}\")\n"
      ],
      "metadata": {
        "id": "rC47tcEUAlu0"
      },
      "execution_count": null,
      "outputs": []
    },
    {
      "cell_type": "markdown",
      "source": [
        "#Друзья друзей\n"
      ],
      "metadata": {
        "id": "9s3c4vt1An7X"
      }
    },
    {
      "cell_type": "code",
      "source": [
        "from collections import defaultdict\n",
        "\n",
        "def build_network(input_data):\n",
        "    network = defaultdict(set)\n",
        "\n",
        "    for line in input_data:\n",
        "        person1, person2 = line.strip().split()\n",
        "        network[person1].add(person2)\n",
        "        network[person2].add(person1)\n",
        "\n",
        "    return network\n",
        "\n",
        "def find_friends_2nd_level(network):\n",
        "    friends_2nd_level = defaultdict(set)\n",
        "\n",
        "    for person in sorted(network.keys()):\n",
        "        for friend in sorted(network[person]):\n",
        "            friends_2nd_level[person] |= network[friend]\n",
        "\n",
        "    for person in sorted(friends_2nd_level.keys()):\n",
        "        friends_2nd_level[person] -= network[person]\n",
        "\n",
        "    return friends_2nd_level\n",
        "\n",
        "input_data = []\n",
        "while True:\n",
        "    line = input()\n",
        "    if not line:\n",
        "        break\n",
        "    input_data.append(line)\n",
        "\n",
        "network = build_network(input_data)\n",
        "friends_2nd_level = find_friends_2nd_level(network)\n",
        "\n",
        "for person in sorted(friends_2nd_level.keys()):\n",
        "    friends = sorted(friends_2nd_level[person])\n",
        "    print(f\"{person}: {', '.join(friends)}\")\n"
      ],
      "metadata": {
        "id": "eak2lj1TAqYg"
      },
      "execution_count": null,
      "outputs": []
    },
    {
      "cell_type": "markdown",
      "source": [
        "#Список квадратов\n"
      ],
      "metadata": {
        "id": "CIM1v8LoAsZ9"
      }
    },
    {
      "cell_type": "code",
      "source": [
        "squares = [x**2 for x in range(a, b + 1)]\n"
      ],
      "metadata": {
        "id": "J9XvTTtdAuiK"
      },
      "execution_count": null,
      "outputs": []
    },
    {
      "cell_type": "markdown",
      "source": [
        "#Таблица умножения 2.0\n"
      ],
      "metadata": {
        "id": "XMX3xiwpAv-U"
      }
    },
    {
      "cell_type": "code",
      "source": [
        "multiplication_table = [[(i + 1) * (j + 1) for j in range(n)] for i in range(n)]\n"
      ],
      "metadata": {
        "id": "cuORh1CqAx0R"
      },
      "execution_count": null,
      "outputs": []
    },
    {
      "cell_type": "markdown",
      "source": [
        "#Длины всех слов\n"
      ],
      "metadata": {
        "id": "ZzxkOofJAzxs"
      }
    },
    {
      "cell_type": "code",
      "source": [
        "word_lengths = [len(word) for word in sentence.split()]\n"
      ],
      "metadata": {
        "id": "zjOs_5mSA12Z"
      },
      "execution_count": null,
      "outputs": []
    },
    {
      "cell_type": "markdown",
      "source": [
        "#Множество нечетных чисел\n"
      ],
      "metadata": {
        "id": "PNEGql4-A4mF"
      }
    },
    {
      "cell_type": "code",
      "source": [
        "odd_numbers = {num for num in numbers if num % 2 != 0}\n"
      ],
      "metadata": {
        "id": "LpanWRjAA6O1"
      },
      "execution_count": null,
      "outputs": []
    },
    {
      "cell_type": "markdown",
      "source": [
        "#Множество всех полных квадратов\n"
      ],
      "metadata": {
        "id": "EmGpiRaCBBSc"
      }
    },
    {
      "cell_type": "code",
      "source": [
        "perfect_squares = {num for num in numbers if int(num ** 0.5) ** 2 == num}\n"
      ],
      "metadata": {
        "id": "z4JJg1TJBDl-"
      },
      "execution_count": null,
      "outputs": []
    },
    {
      "cell_type": "markdown",
      "source": [
        "#Буквенная статистика\n"
      ],
      "metadata": {
        "id": "wGTfmjF9BEss"
      }
    },
    {
      "cell_type": "code",
      "source": [
        "letter_statistics = {letter.lower(): text.lower().count(letter) for letter in set(text.lower()) if letter.isalpha()}\n"
      ],
      "metadata": {
        "id": "Zq4YX9YqBGdk"
      },
      "execution_count": null,
      "outputs": []
    },
    {
      "cell_type": "markdown",
      "source": [],
      "metadata": {
        "id": "Mao6cpE2BIU4"
      }
    },
    {
      "cell_type": "code",
      "source": [],
      "metadata": {
        "id": "Wd-z8dJ5BIn2"
      },
      "execution_count": null,
      "outputs": []
    },
    {
      "cell_type": "markdown",
      "source": [
        "#Делители\n"
      ],
      "metadata": {
        "id": "4EnehyOCBJkS"
      }
    },
    {
      "cell_type": "code",
      "source": [
        "divisors_dict = {number: [divisor for divisor in range(1, number + 1) if number % divisor == 0] for number in numbers}\n"
      ],
      "metadata": {
        "id": "Rzvr7Qs3BLHk"
      },
      "execution_count": null,
      "outputs": []
    },
    {
      "cell_type": "markdown",
      "source": [
        "#Аббревиатура\n"
      ],
      "metadata": {
        "id": "4jtae3HgBMeG"
      }
    },
    {
      "cell_type": "code",
      "source": [
        "abbreviation = ''.join(word[0].upper() for word in string.split())\n"
      ],
      "metadata": {
        "id": "frx7gvMgBOYm"
      },
      "execution_count": null,
      "outputs": []
    },
    {
      "cell_type": "markdown",
      "source": [
        "#Преобразование в строку\n"
      ],
      "metadata": {
        "id": "R_tLY4TMBPWy"
      }
    },
    {
      "cell_type": "code",
      "source": [
        "result_string = ' - '.join(map(str, sorted(set(numbers))))\n"
      ],
      "metadata": {
        "id": "WO_xFb3dBRyZ"
      },
      "execution_count": null,
      "outputs": []
    }
  ]
}