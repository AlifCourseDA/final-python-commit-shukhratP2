{
  "nbformat": 4,
  "nbformat_minor": 0,
  "metadata": {
    "colab": {
      "provenance": []
    },
    "kernelspec": {
      "name": "python3",
      "display_name": "Python 3"
    },
    "language_info": {
      "name": "python"
    }
  },
  "cells": [
    {
      "cell_type": "code",
      "execution_count": null,
      "metadata": {
        "id": "877Hi9ASMkPi"
      },
      "outputs": [],
      "source": []
    },
    {
      "cell_type": "markdown",
      "source": [
        "#Функциональное приветствие\n"
      ],
      "metadata": {
        "id": "3Kz843U7MqZ_"
      }
    },
    {
      "cell_type": "code",
      "source": [
        "def print_hello(name):\n",
        "    print(f\"Hello, {name}!\")\n"
      ],
      "metadata": {
        "id": "7lVpoO-zMtSJ"
      },
      "execution_count": null,
      "outputs": []
    },
    {
      "cell_type": "markdown",
      "source": [
        "#Функциональный НОД\n"
      ],
      "metadata": {
        "id": "iZugXmkgMuxv"
      }
    },
    {
      "cell_type": "code",
      "source": [
        "def gcd(a, b):\n",
        "    while b:\n",
        "        a, b = b, a % b\n",
        "    return a\n"
      ],
      "metadata": {
        "id": "sLDMuupnMyBZ"
      },
      "execution_count": null,
      "outputs": []
    },
    {
      "cell_type": "markdown",
      "source": [
        "#Длина числа\n"
      ],
      "metadata": {
        "id": "GNzL95meMzbI"
      }
    },
    {
      "cell_type": "code",
      "source": [
        "def number_length(number):\n",
        "    return len(str(abs(number)))\n"
      ],
      "metadata": {
        "id": "Zn8iP1TCM1dl"
      },
      "execution_count": null,
      "outputs": []
    },
    {
      "cell_type": "markdown",
      "source": [
        "#Имя of the month\n"
      ],
      "metadata": {
        "id": "eOcyHcTJM2-Q"
      }
    },
    {
      "cell_type": "code",
      "source": [
        "def month(month_number, language):\n",
        "    month_names_ru = [\"Январь\", \"Февраль\", \"Март\", \"Апрель\", \"Май\", \"Июнь\", \"Июль\", \"Август\", \"Сентябрь\", \"Октябрь\", \"Ноябрь\", \"Декабрь\"]\n",
        "    month_names_en = [\"January\", \"February\", \"March\", \"April\", \"May\", \"June\", \"July\", \"August\", \"September\", \"October\", \"November\", \"December\"]\n",
        "\n",
        "    if language == \"ru\":\n",
        "        return month_names_ru[month_number - 1]\n",
        "    elif language == \"en\":\n",
        "        return month_names_en[month_number - 1]\n",
        "    else:\n",
        "        return \"Unknown language\"\n",
        "\n"
      ],
      "metadata": {
        "id": "_0ZS5GiWM5JD"
      },
      "execution_count": null,
      "outputs": []
    },
    {
      "cell_type": "markdown",
      "source": [
        "#Числовая строка\n"
      ],
      "metadata": {
        "id": "eV4JFfHcM6Pn"
      }
    },
    {
      "cell_type": "code",
      "source": [
        "def split_numbers(number_string):\n",
        "    numbers = tuple(map(int, number_string.split()))\n",
        "    return numbers\n",
        "\n"
      ],
      "metadata": {
        "id": "vXUWqPDAM8dQ"
      },
      "execution_count": null,
      "outputs": []
    },
    {
      "cell_type": "markdown",
      "source": [
        "#Модернизация системы вывода\n"
      ],
      "metadata": {
        "id": "RFhOWUSRM-ri"
      }
    },
    {
      "cell_type": "code",
      "source": [
        "printed_strings = set()\n",
        "\n",
        "def modern_print(text):\n",
        "    if text not in printed_strings:\n",
        "        print(text)\n",
        "        printed_strings.add(text)\n"
      ],
      "metadata": {
        "id": "yzmAJkxFNAVt"
      },
      "execution_count": null,
      "outputs": []
    },
    {
      "cell_type": "markdown",
      "source": [
        "#Шахматный «обед»\n"
      ],
      "metadata": {
        "id": "rlrY-erBNBvs"
      }
    },
    {
      "cell_type": "code",
      "source": [
        "def can_eat(knight, other):\n",
        "    x_knight, y_knight = knight\n",
        "    x_other, y_other = other\n",
        "\n",
        "    dx = abs(x_knight - x_other)\n",
        "    dy = abs(y_knight - y_other)\n",
        "\n",
        "    return (dx == 1 and dy == 2) or (dx == 2 and dy == 1)\n"
      ],
      "metadata": {
        "id": "gqTR4PnlNDty"
      },
      "execution_count": null,
      "outputs": []
    },
    {
      "cell_type": "markdown",
      "source": [
        "#А роза упала на лапу Азора 7.0\n"
      ],
      "metadata": {
        "id": "r2nFsgk6NGcC"
      }
    },
    {
      "cell_type": "code",
      "source": [
        "def is_palindrome(value):\n",
        "    if isinstance(value, (int, str, tuple, list)):\n",
        "        value_str = str(value)\n",
        "        return value_str == value_str[::-1]\n",
        "    else:\n",
        "        return False\n",
        "\n"
      ],
      "metadata": {
        "id": "FuJ55lp0NIte"
      },
      "execution_count": null,
      "outputs": []
    },
    {
      "cell_type": "markdown",
      "source": [
        "#Простая задача 5.0\n"
      ],
      "metadata": {
        "id": "eqlFax1wNLWz"
      }
    },
    {
      "cell_type": "code",
      "source": [
        "def is_prime(n):\n",
        "    if n < 2:\n",
        "        return False\n",
        "    for i in range(2, int(n**0.5) + 1):\n",
        "        if n % i == 0:\n",
        "            return False\n",
        "    return True\n"
      ],
      "metadata": {
        "id": "DoUc_nQzNNoU"
      },
      "execution_count": null,
      "outputs": []
    },
    {
      "cell_type": "markdown",
      "source": [
        "#Слияние"
      ],
      "metadata": {
        "id": "QWRmWgUqNQTE"
      }
    },
    {
      "cell_type": "code",
      "source": [
        "def merge(t1, t2):\n",
        "    result = []\n",
        "    i, j = 0, 0\n",
        "\n",
        "    while i < len(t1) and j < len(t2):\n",
        "        if t1[i] < t2[j]:\n",
        "            result.append(t1[i])\n",
        "            i += 1\n",
        "        else:\n",
        "            result.append(t2[j])\n",
        "            j += 1\n",
        "\n",
        "    result.extend(t1[i:])\n",
        "    result.extend(t2[j:])\n",
        "\n",
        "    return tuple(result)\n"
      ],
      "metadata": {
        "id": "a0FyCbnaNT5M"
      },
      "execution_count": null,
      "outputs": []
    },
    {
      "cell_type": "markdown",
      "source": [
        "#Генератор списков\n"
      ],
      "metadata": {
        "id": "uchpGzMTNWIJ"
      }
    },
    {
      "cell_type": "code",
      "source": [
        "def make_list(length, value=0):\n",
        "    return [value] * length\n",
        "\n"
      ],
      "metadata": {
        "id": "k2b6lVWWNYDb"
      },
      "execution_count": null,
      "outputs": []
    },
    {
      "cell_type": "markdown",
      "source": [
        "#Генератор матриц\n"
      ],
      "metadata": {
        "id": "zChTjV3ANaBg"
      }
    },
    {
      "cell_type": "code",
      "source": [
        "def make_matrix(size, value=0):\n",
        "    if isinstance(size, int):\n",
        "        size = (size, size)\n",
        "\n",
        "    return [[value] * size[0] for _ in range(size[1])]\n",
        "\n"
      ],
      "metadata": {
        "id": "-hDtUFWVNcCv"
      },
      "execution_count": null,
      "outputs": []
    },
    {
      "cell_type": "markdown",
      "source": [
        "#Функциональный нод 2.0\n"
      ],
      "metadata": {
        "id": "KFh7WYARNeWW"
      }
    },
    {
      "cell_type": "markdown",
      "source": [],
      "metadata": {
        "id": "z1PSbYu8Nnng"
      }
    },
    {
      "cell_type": "code",
      "source": [
        "def gcd(*numbers):\n",
        "    def find_gcd(x, y):\n",
        "        while y:\n",
        "            x, y = y, x % y\n",
        "        return x\n",
        "\n",
        "    result = numbers[0]\n",
        "    for number in numbers[1:]:\n",
        "        result = find_gcd(result, number)\n",
        "\n",
        "    return result\n",
        "\n"
      ],
      "metadata": {
        "id": "anFHWT47NgId"
      },
      "execution_count": null,
      "outputs": []
    },
    {
      "cell_type": "markdown",
      "source": [
        "#Имя of the month 2.0\n"
      ],
      "metadata": {
        "id": "HOwq4P0oNjxo"
      }
    },
    {
      "cell_type": "code",
      "source": [
        "def month(month_number, language=\"ru\"):\n",
        "    months_ru = ['Январь', 'Февраль', 'Март', 'Апрель', 'Май', 'Июнь', 'Июль', 'Август', 'Сентябрь', 'Октябрь', 'Ноябрь', 'Декабрь']\n",
        "    months_en = ['January', 'February', 'March', 'April', 'May', 'June', 'July', 'August', 'September', 'October', 'November', 'December']\n",
        "\n",
        "    if language.lower() == \"en\":\n",
        "        return months_en[month_number - 1]\n",
        "    else:\n",
        "        return months_ru[month_number - 1]\n",
        "\n"
      ],
      "metadata": {
        "id": "kdRi_wkwNlb6"
      },
      "execution_count": null,
      "outputs": []
    },
    {
      "cell_type": "markdown",
      "source": [
        "#Подготовка данных\n"
      ],
      "metadata": {
        "id": "Z0PzCnGfNof4"
      }
    },
    {
      "cell_type": "code",
      "source": [
        "def to_string(*args, sep=\" \", end=\"\\n\"):\n",
        "    result = sep.join(map(str, args)) + end\n",
        "    return result\n",
        "\n"
      ],
      "metadata": {
        "id": "jiQTlBSUNrFM"
      },
      "execution_count": null,
      "outputs": []
    },
    {
      "cell_type": "markdown",
      "source": [
        "#Кофейня"
      ],
      "metadata": {
        "id": "PsAhy5eINsWw"
      }
    },
    {
      "cell_type": "code",
      "source": [
        "in_stock = {\"coffee\": 4, \"milk\": 4, \"cream\": 0}\n",
        "\n",
        "def order(*preferences):\n",
        "    for preference in preferences:\n",
        "        if preference == \"Эспрессо\" and in_stock[\"coffee\"] >= 1:\n",
        "            in_stock[\"coffee\"] -= 1\n",
        "            return \"Эспрессо\"\n",
        "        elif preference == \"Капучино\" and in_stock[\"coffee\"] >= 1 and in_stock[\"milk\"] >= 3:\n",
        "            in_stock[\"coffee\"] -= 1\n",
        "            in_stock[\"milk\"] -= 3\n",
        "            return \"Капучино\"\n",
        "        elif preference == \"Макиато\" and in_stock[\"coffee\"] >= 2 and in_stock[\"milk\"] >= 1:\n",
        "            in_stock[\"coffee\"] -= 2\n",
        "            in_stock[\"milk\"] -= 1\n",
        "            return \"Макиато\"\n",
        "        elif preference == \"Кофе по-венски\" and in_stock[\"coffee\"] >= 1 and in_stock[\"cream\"] >= 2:\n",
        "            in_stock[\"coffee\"] -= 1\n",
        "            in_stock[\"cream\"] -= 2\n",
        "            return \"Кофе по-венски\"\n",
        "        elif preference == \"Латте Макиато\" and in_stock[\"coffee\"] >= 1 and in_stock[\"milk\"] >= 2 and in_stock[\"cream\"] >= 1:\n",
        "            in_stock[\"coffee\"] -= 1\n",
        "            in_stock[\"milk\"] -= 2\n",
        "            in_stock[\"cream\"] -= 1\n",
        "            return \"Латте Макиато\"\n",
        "        elif preference == \"Кон Панна\" and in_stock[\"coffee\"] >= 1 and in_stock[\"cream\"] >= 1:\n",
        "            in_stock[\"coffee\"] -= 1\n",
        "            in_stock[\"cream\"] -= 1\n",
        "            return \"Кон Панна\"\n",
        "    return \"К сожалению, не можем предложить Вам напиток\"\n",
        "\n"
      ],
      "metadata": {
        "id": "eUrUaHelNuO5"
      },
      "execution_count": null,
      "outputs": []
    },
    {
      "cell_type": "markdown",
      "source": [
        "#В эфире рубрика «Эксперименты»\n"
      ],
      "metadata": {
        "id": "Z98otsUYNvm0"
      }
    },
    {
      "cell_type": "code",
      "source": [
        "def enter_results(*data):\n",
        "    global results\n",
        "    results.extend(data)\n",
        "\n",
        "def get_sum():\n",
        "    return round(sum(results[::2]), 2), round(sum(results[1::2]), 2)\n",
        "\n",
        "def get_average():\n",
        "    n = len(results) // 2\n",
        "    return round(sum(results[::2]) / n, 2), round(sum(results[1::2]) / n, 2)\n",
        "\n"
      ],
      "metadata": {
        "id": "Xy-mUCt8NzFM"
      },
      "execution_count": null,
      "outputs": []
    },
    {
      "cell_type": "markdown",
      "source": [
        "#Длинная сортировка\n"
      ],
      "metadata": {
        "id": "9UQtfxzWN1HC"
      }
    },
    {
      "cell_type": "code",
      "source": [
        "key=lambda x: (len(x), x.lower())\n",
        "\n"
      ],
      "metadata": {
        "id": "hulJx5PrN3y6"
      },
      "execution_count": null,
      "outputs": []
    },
    {
      "cell_type": "markdown",
      "source": [
        "#Чётная фильтрация\n"
      ],
      "metadata": {
        "id": "72Zjgun3N5EQ"
      }
    },
    {
      "cell_type": "code",
      "source": [
        "lambda x: sum(map(int, str(x))) % 2 == 0\n"
      ],
      "metadata": {
        "id": "dOnjDbujN7Hl"
      },
      "execution_count": null,
      "outputs": []
    },
    {
      "cell_type": "markdown",
      "source": [
        "#Ключевой секрет\n"
      ],
      "metadata": {
        "id": "9b7fZkNPOAum"
      }
    },
    {
      "cell_type": "code",
      "source": [
        "def secret_replace(text, **rules):\n",
        "    for key, values in rules.items():\n",
        "        for value in values:\n",
        "            text = text.replace(key, value)\n",
        "    return text\n",
        "\n"
      ],
      "metadata": {
        "id": "04Lle0eKOBNc"
      },
      "execution_count": null,
      "outputs": []
    },
    {
      "cell_type": "markdown",
      "source": [
        "#Рекурсивный сумматор\n",
        "\n",
        "\n",
        "\n",
        "> Блок с отступами\n",
        "\n"
      ],
      "metadata": {
        "id": "26lbKJ7TOE5q"
      }
    },
    {
      "cell_type": "code",
      "source": [
        "def recursive_sum(*args):\n",
        "    if not args:\n",
        "        return 0\n",
        "    else:\n",
        "        return args[0] + recursive_sum(*args[1:])\n"
      ],
      "metadata": {
        "id": "jPuv2evmOLR_"
      },
      "execution_count": null,
      "outputs": []
    },
    {
      "cell_type": "markdown",
      "source": [
        "#Рекурсивный сумматор цифр\n"
      ],
      "metadata": {
        "id": "gxs6c37wOVVO"
      }
    },
    {
      "cell_type": "code",
      "source": [
        "def recursive_digit_sum(n):\n",
        "    if n == 0:\n",
        "        return 0\n",
        "    else:\n",
        "        return n % 10 + recursive_digit_sum(n // 10)\n"
      ],
      "metadata": {
        "id": "vPaFR6NNOYit"
      },
      "execution_count": null,
      "outputs": []
    },
    {
      "cell_type": "markdown",
      "source": [
        "#Многочлен N-ой степени\n"
      ],
      "metadata": {
        "id": "mBTy8lIXOZtB"
      }
    },
    {
      "cell_type": "code",
      "source": [
        "def make_equation(*coefficients):\n",
        "    if not coefficients:\n",
        "        return '0'\n",
        "    elif len(coefficients) == 1:\n",
        "        return str(coefficients[0])\n",
        "    else:\n",
        "        n = len(coefficients) - 1\n",
        "        return f'(({coefficients[0]}) * x + {coefficients[1]}) * ' + make_equation(*coefficients[2:])\n"
      ],
      "metadata": {
        "id": "EqtXDnneObTI"
      },
      "execution_count": null,
      "outputs": []
    },
    {
      "cell_type": "markdown",
      "source": [
        "#Декор результата\n"
      ],
      "metadata": {
        "id": "7sZAkC61OcbF"
      }
    },
    {
      "cell_type": "code",
      "source": [
        "def answer(func):\n",
        "    def wrapper(*args, **kwargs):\n",
        "        result = func(*args, **kwargs)\n",
        "        return f'Результат функции: {result}'\n",
        "    return wrapper\n",
        "\n",
        "@answer\n",
        "def a_plus_b(a, b):\n",
        "    return a + b\n",
        "\n",
        "@answer\n",
        "def get_letters(text: str):\n",
        "    return ''.join(sorted(set(filter(str.isalpha, text.lower()))))\n"
      ],
      "metadata": {
        "id": "8Z7wSuBHOehP"
      },
      "execution_count": null,
      "outputs": []
    },
    {
      "cell_type": "markdown",
      "source": [
        "#Накопление результата\n"
      ],
      "metadata": {
        "id": "pSuLwmhLOgAm"
      }
    },
    {
      "cell_type": "code",
      "source": [
        "from collections import deque\n",
        "\n",
        "def result_accumulator(func):\n",
        "    results = deque()\n",
        "\n",
        "    def wrapper(*args, method=\"accumulate\", **kwargs):\n",
        "        result = func(*args, **kwargs)\n",
        "        if method == \"accumulate\":\n",
        "            results.append(result)\n",
        "        elif method == \"drop\":\n",
        "            accumulated_results = list(results)\n",
        "            results.clear()\n",
        "            return accumulated_results\n",
        "\n",
        "    return wrapper\n",
        "\n",
        "@result_accumulator\n",
        "def a_plus_b(a, b):\n",
        "    return a + b\n",
        "\n",
        "@result_accumulator\n",
        "def get_letters(text: str):\n",
        "    return ''.join(sorted(set(filter(str.isalpha, text.lower()))))\n"
      ],
      "metadata": {
        "id": "XH-yG_fvOhW8"
      },
      "execution_count": null,
      "outputs": []
    },
    {
      "cell_type": "markdown",
      "source": [
        "#Сортировка слиянием\n"
      ],
      "metadata": {
        "id": "xfCmz4IzOijU"
      }
    },
    {
      "cell_type": "code",
      "source": [
        "def merge_sort(arr):\n",
        "    if len(arr) <= 1:\n",
        "        return arr\n",
        "\n",
        "    middle = len(arr) // 2\n",
        "    left = merge_sort(arr[:middle])\n",
        "    right = merge_sort(arr[middle:])\n",
        "\n",
        "    return merge(left, right)\n",
        "\n",
        "def merge(left, right):\n",
        "    result = []\n",
        "    i = j = 0\n",
        "\n",
        "    while i < len(left) and j < len(right):\n",
        "        if left[i] < right[j]:\n",
        "            result.append(left[i])\n",
        "            i += 1\n",
        "        else:\n",
        "            result.append(right[j])\n",
        "            j += 1\n",
        "\n",
        "    result.extend(left[i:])\n",
        "    result.extend(right[j:])\n",
        "    return result\n",
        "\n",
        "result = merge_sort([3, 2, 1])\n",
        "print(result)\n",
        "\n",
        "result = merge_sort([3, 1, 5, 3])\n",
        "print(result)\n"
      ],
      "metadata": {
        "id": "7RgNFjDDOkQa"
      },
      "execution_count": null,
      "outputs": []
    },
    {
      "cell_type": "markdown",
      "source": [
        "#Однотипность не порок\n"
      ],
      "metadata": {
        "id": "07SrV4oQOlmg"
      }
    },
    {
      "cell_type": "code",
      "source": [
        "def same_type(func):\n",
        "    def wrapper(*args, **kwargs):\n",
        "        if len(set(map(type, args))) > 1:\n",
        "            print(\"Обнаружены различные типы данных\")\n",
        "            return None\n",
        "        return func(*args, **kwargs)\n",
        "    return wrapper\n",
        "\n",
        "@same_type\n",
        "def a_plus_b(a, b):\n",
        "    return a + b\n",
        "\n",
        "print(a_plus_b(3, 5.2) or 'Fail')\n",
        "print(a_plus_b(7, '9') or 'Fail')\n",
        "print(a_plus_b(-3, 5) or 'Fail')\n",
        "\n",
        "@same_type\n",
        "def combine_text(*words):\n",
        "    return ' '.join(map(str, words))\n",
        "\n",
        "print(combine_text('Hello,', 'world!') or 'Fail')\n",
        "print(combine_text(2, '+', 2, '=', 4) or 'Fail')\n",
        "print(combine_text('Список из 30', 0, 'можно получить так', [0] * 30) or 'Fail')\n"
      ],
      "metadata": {
        "id": "ajyuhdn2Onuo"
      },
      "execution_count": null,
      "outputs": []
    },
    {
      "cell_type": "markdown",
      "source": [
        "#Генератор Фибоначчи\n"
      ],
      "metadata": {
        "id": "Yj8YPgY0OpCz"
      }
    },
    {
      "cell_type": "code",
      "source": [
        "def fibonacci(n):\n",
        "    a, b = 0, 1\n",
        "    for _ in range(n):\n",
        "        yield a\n",
        "        a, b = b, a + b\n",
        "\n"
      ],
      "metadata": {
        "id": "9uQhz9AoOq9q"
      },
      "execution_count": null,
      "outputs": []
    },
    {
      "cell_type": "markdown",
      "source": [
        "#Циклический генератор\n"
      ],
      "metadata": {
        "id": "ikmk_7ZpOsbW"
      }
    },
    {
      "cell_type": "code",
      "source": [
        "def cycle(iterable):\n",
        "    while True:\n",
        "        yield from iterable\n",
        "\n",
        "print(*(x for _, x in zip(range(5), cycle([1, 2, 3]))))\n",
        "print(*(x for _, x in zip(range(15), cycle([1, 2, 3, 4]))))\n"
      ],
      "metadata": {
        "id": "uVbvktMYOuyL"
      },
      "execution_count": null,
      "outputs": []
    },
    {
      "cell_type": "markdown",
      "source": [
        "#\"Выпрямление\" списка\n"
      ],
      "metadata": {
        "id": "j-1_HoNEOwaU"
      }
    },
    {
      "cell_type": "code",
      "source": [
        "def make_linear(lst):\n",
        "    result = []\n",
        "    for item in lst:\n",
        "        if isinstance(item, list):\n",
        "            result.extend(make_linear(item))\n",
        "        else:\n",
        "            result.append(item)\n",
        "    return result\n",
        "\n",
        "result1 = make_linear([1, 2, [3]])\n",
        "print(result1)\n",
        "\n",
        "result2 = make_linear([1, [2, [3, 4]], 5, 6])\n",
        "print(result2)\n"
      ],
      "metadata": {
        "id": "_WwMi6F6OyJW"
      },
      "execution_count": null,
      "outputs": []
    },
    {
      "cell_type": "code",
      "source": [],
      "metadata": {
        "id": "2NEi54ClOGjV"
      },
      "execution_count": null,
      "outputs": []
    }
  ]
}