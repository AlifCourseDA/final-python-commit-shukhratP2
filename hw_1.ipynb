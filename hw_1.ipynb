{
  "cells": [
    {
      "cell_type": "markdown",
      "id": "27072d5e",
      "metadata": {
        "id": "27072d5e"
      },
      "source": [
        "![image.png](attachment:image.png)"
      ]
    },
    {
      "cell_type": "markdown",
      "id": "e04e18d1",
      "metadata": {
        "id": "e04e18d1"
      },
      "source": [
        "# Exercise 2: Introduction to Python\n",
        "\n",
        "This exercise is **not graded**, but I encourage you to pass it in order to receive your project assignments"
      ]
    },
    {
      "cell_type": "markdown",
      "id": "be4b3bbc",
      "metadata": {
        "id": "be4b3bbc"
      },
      "source": [
        "P.S You can edit this file any way you like, but please do not change the general structure\n",
        "\n",
        "Here is a short [list of Markdown commands for editing text](https://github.com/adam-p/markdown-here/wiki/Markdown-Cheatsheet)."
      ]
    },
    {
      "cell_type": "markdown",
      "id": "7d17471a",
      "metadata": {
        "id": "7d17471a"
      },
      "source": [
        "**Important:** Try to use the documentation and Google for specific Python syntax. Avoid searching for ready-to-use solutions, as this may hinder your long-term learning."
      ]
    },
    {
      "cell_type": "markdown",
      "id": "62689ec8",
      "metadata": {
        "id": "62689ec8"
      },
      "source": [
        "## Input and Output in Python"
      ]
    },
    {
      "cell_type": "markdown",
      "id": "d28b6c2a",
      "metadata": {
        "id": "d28b6c2a"
      },
      "source": [
        "## Part 1: syntax"
      ]
    },
    {
      "cell_type": "markdown",
      "id": "b8ff7e85",
      "metadata": {
        "id": "b8ff7e85"
      },
      "source": [
        "Just replace @@@s with a necessary code and try to check various test cases."
      ]
    },
    {
      "cell_type": "markdown",
      "id": "8a7bfc2e",
      "metadata": {
        "id": "8a7bfc2e"
      },
      "source": [
        "### Problem 1.1: Hello World!\n",
        "\n",
        "Just a quick recap"
      ]
    },
    {
      "cell_type": "markdown",
      "id": "027107dc",
      "metadata": {
        "id": "027107dc"
      },
      "source": [
        "Write a code hat asks one's name and returns: \"Hello, %username%\""
      ]
    },
    {
      "cell_type": "code",
      "execution_count": 1,
      "id": "a325c2fe",
      "metadata": {
        "colab": {
          "base_uri": "https://localhost:8080/"
        },
        "id": "a325c2fe",
        "outputId": "463bbc59-23be-428a-e3f7-301d3f90000c"
      },
      "outputs": [
        {
          "output_type": "stream",
          "name": "stdout",
          "text": [
            "What is your name? SHUKHRAT\n",
            "Hello, SHUKHRAT\n"
          ]
        }
      ],
      "source": [
        "user_name = input(\"What is your name? \")\n",
        "\n",
        "print(\"Hello, \" + user_name)"
      ]
    },
    {
      "cell_type": "markdown",
      "id": "29710f9d",
      "metadata": {
        "id": "29710f9d"
      },
      "source": [
        "Test:\n",
        "\n",
        "Input:\n",
        "\n",
        "Alif Academy\n",
        "\n",
        "Output:\n",
        "    \n",
        "What is your name?\n",
        "\n",
        "Hello, Alif Academy"
      ]
    },
    {
      "cell_type": "markdown",
      "id": "ab89d53b",
      "metadata": {
        "id": "ab89d53b"
      },
      "source": [
        "### Problem 1.2: N repetitions\n",
        "\n",
        "Write a code that receives some natural N and a random pharase to return N lines of that piece of text."
      ]
    },
    {
      "cell_type": "code",
      "execution_count": 4,
      "id": "944ffafb",
      "metadata": {
        "colab": {
          "base_uri": "https://localhost:8080/"
        },
        "id": "944ffafb",
        "outputId": "49bae5dc-926e-4b94-b1cd-2e6b5b4dd911"
      },
      "outputs": [
        {
          "output_type": "stream",
          "name": "stdout",
          "text": [
            "10\n",
            "hey\n",
            "hey\n",
            "hey\n",
            "hey\n",
            "hey\n",
            "hey\n",
            "hey\n",
            "hey\n",
            "hey\n",
            "hey\n",
            "hey\n",
            "\n"
          ]
        }
      ],
      "source": [
        "n = int(input())\n",
        "\n",
        "phrase = input()\n",
        "\n",
        "print(f\"{phrase}\\n\"*10)"
      ]
    },
    {
      "cell_type": "markdown",
      "id": "45d5607b",
      "metadata": {
        "id": "45d5607b"
      },
      "source": [
        "Test:\n",
        "\n",
        "Input:\n",
        "\n",
        "10\n",
        "\n",
        "hey\n",
        "\n",
        "Output:\n",
        "\n",
        "hey\n",
        "\n",
        "hey\n",
        "\n",
        "hey\n",
        "\n",
        "hey\n",
        "\n",
        "hey\n",
        "\n",
        "hey\n",
        "\n",
        "hey\n",
        "\n",
        "hey\n",
        "\n",
        "hey\n",
        "\n",
        "hey\n"
      ]
    },
    {
      "cell_type": "markdown",
      "id": "b8755d41",
      "metadata": {
        "id": "b8755d41"
      },
      "source": [
        "### Problem 2: Your First Receipt"
      ]
    },
    {
      "cell_type": "markdown",
      "id": "ca8c786b",
      "metadata": {
        "id": "ca8c786b"
      },
      "source": [
        "**Task**\n",
        "\n",
        "Write a code that prints nice grocery receipts.\n",
        "\n",
        "**Input Format:**\n",
        "\n",
        "* product name;\n",
        "* product price;\n",
        "* weight;\n",
        "* consumer's budget;\n",
        "\n",
        "**Output Format:**\n",
        "\n",
        "Your Receipt\n",
        "(product name) - (weight)kg - (product price) soums/kg\n",
        "\n",
        "Overall: (total price) soums\n",
        "\n",
        "Paid: (to be paid) soums\n",
        "\n",
        "Your change: (consumer's budget) soums"
      ]
    },
    {
      "cell_type": "code",
      "execution_count": 5,
      "id": "dad47f15",
      "metadata": {
        "colab": {
          "base_uri": "https://localhost:8080/"
        },
        "id": "dad47f15",
        "outputId": "d0c0d438-8ef2-4d2c-80d0-0db1ed3d1fc2"
      },
      "outputs": [
        {
          "output_type": "stream",
          "name": "stdout",
          "text": [
            "Enter product name: AS\n",
            "Enter product price per kg: 25\n",
            "Enter weight in kg: 2\n",
            "Enter consumer's budget: 123\n",
            "\n",
            "Your Receipt\n",
            "AS - 2.0kg - 25.0 soums/kg\n",
            "\n",
            "Overall: 50.0 soums\n",
            "Paid: 50.0 soums\n",
            "Your change: 73.0 soums\n"
          ]
        }
      ],
      "source": [
        "\n",
        "product_name = input(\"Enter product name: \")\n",
        "product_price = float(input(\"Enter product price per kg: \"))\n",
        "weight = float(input(\"Enter weight in kg: \"))\n",
        "consumer_budget = float(input(\"Enter consumer's budget: \"))\n",
        "\n",
        "\n",
        "total_price = product_price * weight\n",
        "to_be_paid = min(total_price, consumer_budget)\n",
        "change = max(0, consumer_budget - total_price)\n",
        "\n",
        "\n",
        "print(\"\\nYour Receipt\")\n",
        "print(f\"{product_name} - {weight}kg - {product_price} soums/kg\")\n",
        "print(\"\\nOverall:\", total_price, \"soums\")3\n",
        "print(\"Paid:\", to_be_paid, \"soums\")\n",
        "print(\"Your change:\", change, \"soums\")\n"
      ]
    },
    {
      "cell_type": "markdown",
      "id": "b40d950b",
      "metadata": {
        "id": "b40d950b"
      },
      "source": [
        "Test:\n",
        "\n",
        "Input:\n",
        "\n",
        "cherry\n",
        "\n",
        "2\n",
        "\n",
        "3\n",
        "\n",
        "10\n",
        "\n",
        "Output:\n",
        "    \n",
        "Your Receipt\n",
        "\n",
        "cherry - 3 kg - 2 soums/kg\n",
        "\n",
        "Overall: 6 soums\n",
        "    \n",
        "Paid: 10 soums\n",
        "\n",
        "Your change: 4 soums"
      ]
    },
    {
      "cell_type": "markdown",
      "id": "3b4b462f",
      "metadata": {
        "id": "3b4b462f"
      },
      "source": [
        "### Problem 3: Kids and Apples"
      ]
    },
    {
      "cell_type": "markdown",
      "id": "3b60b601",
      "metadata": {
        "id": "3b60b601"
      },
      "source": [
        "**Task**\n",
        "\n",
        "In a kindergarten, 2 children eat 2 pieces of apple in 2 minutes. How many pieces of apple willN children eat in M minutes?\n",
        "\n",
        "**Input Format:**\n",
        "\n",
        "The first line contains a natural number\n",
        "N≥1\n",
        "\n",
        "The second line contains a natural number\n",
        "M≥1\n",
        "\n",
        "**Output Format:**\n",
        "\n",
        "One natural number - the number of pieces of sausage eaten by the children."
      ]
    },
    {
      "cell_type": "code",
      "execution_count": 6,
      "id": "b187e9d9",
      "metadata": {
        "colab": {
          "base_uri": "https://localhost:8080/"
        },
        "id": "b187e9d9",
        "outputId": "ba66d764-5499-4745-c2de-23a79418032b"
      },
      "outputs": [
        {
          "output_type": "stream",
          "name": "stdout",
          "text": [
            "1\n",
            "2\n",
            "4\n"
          ]
        }
      ],
      "source": [
        "N = int(input())\n",
        "M = int(input())\n",
        "\n",
        "pieces_per_child_per_minute = 2\n",
        "total_pieces = N * M * pieces_per_child_per_minute\n",
        "\n",
        "print(total_pieces)\n"
      ]
    },
    {
      "cell_type": "markdown",
      "id": "c0a5c471",
      "metadata": {
        "id": "c0a5c471"
      },
      "source": [
        "Test:\n",
        "\n",
        "Input:\n",
        "\n",
        "10\n",
        "\n",
        "10\n",
        "\n",
        "Output:\n",
        "    \n",
        "50"
      ]
    },
    {
      "cell_type": "markdown",
      "id": "93237a0c",
      "metadata": {
        "id": "93237a0c"
      },
      "source": [
        "### Problem 4: Hours and Minutes"
      ]
    },
    {
      "cell_type": "markdown",
      "id": "a07be1df",
      "metadata": {
        "id": "a07be1df"
      },
      "source": [
        "Given a number n. From the beginning of the day, n minutes have passed. Determine how many hours and minutes the digital clock will display at this moment. The program should output two numbers: the number of hours (from 0 to 23) and the number of minutes (from 0 to 59). Note that the number n can be greater than the number of minutes in a day."
      ]
    },
    {
      "cell_type": "code",
      "execution_count": 7,
      "id": "73781f99",
      "metadata": {
        "colab": {
          "base_uri": "https://localhost:8080/"
        },
        "id": "73781f99",
        "outputId": "9106e52a-c36b-4b9f-f316-20fe5f7471c1"
      },
      "outputs": [
        {
          "output_type": "stream",
          "name": "stdout",
          "text": [
            "12\n",
            "0 12\n"
          ]
        }
      ],
      "source": [
        "n = int(input())\n",
        "\n",
        "hours = (n // 60) % 24\n",
        "minutes = n % 60\n",
        "\n",
        "print(hours, minutes)"
      ]
    },
    {
      "cell_type": "markdown",
      "id": "cabd6ae0",
      "metadata": {
        "id": "cabd6ae0"
      },
      "source": [
        "Test:\n",
        "\n",
        "Input:\n",
        "\n",
        "150\n",
        "\n",
        "Output:\n",
        "    \n",
        "2 30"
      ]
    },
    {
      "cell_type": "markdown",
      "id": "2f4f3a47",
      "metadata": {
        "id": "2f4f3a47"
      },
      "source": [
        "### Problem 5: Delivery Time"
      ]
    },
    {
      "cell_type": "markdown",
      "id": "3fc18df8",
      "metadata": {
        "id": "3fc18df8"
      },
      "source": [
        "Sure, here's the task translated into English:\n",
        "\n",
        "**Task:**\n",
        "\n",
        "Today, at\n",
        "**N** hours and\n",
        "**M** minutes, the store owner ordered the delivery of a new product. The operator said that the products would be delivered in\n",
        "**T** minutes. What time will it be on the electronic clock when the long-awaited products arrive?\n",
        "\n",
        "**Input Format:**\n",
        "\n",
        "- The first line contains a natural number\n",
        "$N$ $(0 ≤ N < 24)$.\n",
        "- The second line contains a natural number\n",
        "$M$ $(0 ≤ M < 60)$.\n",
        "- The third line contains a natural number\n",
        "$T$ $(30 ≤ T < 10^9)$.\n",
        "\n",
        "**Output Format:**\n",
        "\n",
        "- One line representing the time on the electronic clock."
      ]
    },
    {
      "cell_type": "code",
      "execution_count": 8,
      "id": "a3a1ba4b",
      "metadata": {
        "colab": {
          "base_uri": "https://localhost:8080/"
        },
        "id": "a3a1ba4b",
        "outputId": "bc24cdc6-a6d4-40f9-d3dc-4e4505eaefc1"
      },
      "outputs": [
        {
          "output_type": "stream",
          "name": "stdout",
          "text": [
            "1\n",
            "2\n",
            "3\n",
            "1 5\n"
          ]
        }
      ],
      "source": [
        "\n",
        "N = int(input())\n",
        "M = int(input())\n",
        "T = int(input())\n",
        "\n",
        "\n",
        "current_time_in_minutes = N * 60 + M\n",
        "\n",
        "\n",
        "arrival_time_in_minutes = current_time_in_minutes + T\n",
        "\n",
        "\n",
        "hours_on_clock = (arrival_time_in_minutes // 60) % 24\n",
        "minutes_on_clock = arrival_time_in_minutes % 60\n",
        "\n",
        "\n",
        "print(hours_on_clock, minutes_on_clock)\n"
      ]
    },
    {
      "cell_type": "markdown",
      "id": "774df866",
      "metadata": {
        "id": "774df866"
      },
      "source": [
        "Test\n",
        "\n",
        "Input:\n",
        "\n",
        "10\n",
        "\n",
        "15\n",
        "\n",
        "2752\n",
        "\n",
        "Output:\n",
        "\n",
        "08:07"
      ]
    },
    {
      "cell_type": "markdown",
      "id": "15aa3868",
      "metadata": {
        "id": "15aa3868"
      },
      "source": [
        "## Part 2: basic financial applications of input and output"
      ]
    },
    {
      "cell_type": "markdown",
      "id": "6ae236fa",
      "metadata": {
        "id": "6ae236fa"
      },
      "source": [
        "In this part of our homework we will go beyond basic Future Value (FV) of a compounding interest investment to calculate FV, Present Value (PV) and Cash Flow per period (C) of an [Ordinary Annuity](https://www.investopedia.com/retirement/calculating-present-and-future-value-of-annuities/).\n",
        "\n",
        "Read about an Ordinary Annuity following the link above.\n"
      ]
    },
    {
      "cell_type": "markdown",
      "id": "43c0e972",
      "metadata": {
        "id": "43c0e972"
      },
      "source": [
        "### Problem 1:  $FV_{ordinary}$"
      ]
    },
    {
      "cell_type": "markdown",
      "id": "2a13702f",
      "metadata": {
        "id": "2a13702f"
      },
      "source": [
        "Write a program to calculate and return the future value of an annuity of C to be received each period for n periods, invested at the periodic rate r. Recall the equation for the future value of an annuity is:\n",
        "\n",
        "$$FV_{ordinary} = C\\cdot\\left(\\frac{(1+r)^n - 1}{r}\\right)$$\n",
        "\n",
        "\n",
        "$C$ = cash flow per period\n",
        "\n",
        "$r$ = interest rate\n",
        "\n",
        "$n$ = number of payments\n",
        "\n",
        ">Try to use input() for variable assigmnent and string formatting to create nicely readable outputs in the way we did during our on-site class."
      ]
    },
    {
      "cell_type": "markdown",
      "id": "f4662332",
      "metadata": {
        "id": "f4662332"
      },
      "source": [
        "Just replace @@@s with a necessary code and try to check create various test cases. Your solutions should at least correspond to the given test examples (including a float precision)."
      ]
    },
    {
      "cell_type": "markdown",
      "id": "284da072",
      "metadata": {
        "id": "284da072"
      },
      "source": [
        "**Technical task**\n",
        "\n",
        "Variables:\n",
        "- r (float): Periodic interest rate.\n",
        "- n (int): Number of periods.\n",
        "- C (float): Payment amount per period.\n",
        "\n",
        "Return\n",
        "- future_value (float): Future value of the annuity.\n"
      ]
    },
    {
      "cell_type": "code",
      "execution_count": 9,
      "id": "5a8f7615",
      "metadata": {
        "colab": {
          "base_uri": "https://localhost:8080/"
        },
        "id": "5a8f7615",
        "outputId": "dec37cd5-434f-456d-e1c8-40def396d460"
      },
      "outputs": [
        {
          "output_type": "stream",
          "name": "stdout",
          "text": [
            "Enter cash flow per period (C): 12.3\n",
            "Enter interest rate (r): 32.3\n",
            "Enter number of payments (n): 3\n",
            "The future value of the annuity is: 14061.24\n"
          ]
        }
      ],
      "source": [
        "\n",
        "C = float(input(\"Enter cash flow per period (C): \"))\n",
        "r = float(input(\"Enter interest rate (r): \"))\n",
        "n = int(input(\"Enter number of payments (n): \"))\n",
        "\n",
        "\n",
        "F_VALUE = C * (((1 + r)**n) - 1) / r\n",
        "\n",
        "\n",
        "print(\"The future value of the annuity is: {:.2f}\".format(F_VALUE))\n"
      ]
    },
    {
      "cell_type": "markdown",
      "id": "401106f6",
      "metadata": {
        "id": "401106f6"
      },
      "source": [
        "**Test:**\n",
        "\n",
        "*Input:*\n",
        "\n",
        "r = 0.05  # Periodic interest rate (5%)\n",
        "\n",
        "n = 10    # Number of periods\n",
        "\n",
        "C = 1000  # Payment amount per period\n",
        "\n",
        "*Output:*\n",
        "\n",
        "The future value of the annuity is: 12577.89"
      ]
    },
    {
      "cell_type": "markdown",
      "id": "5881bdf8",
      "metadata": {
        "id": "5881bdf8"
      },
      "source": [
        ">By *Output* I mean a code cell result in general."
      ]
    },
    {
      "cell_type": "markdown",
      "id": "33d1d294",
      "metadata": {
        "id": "33d1d294"
      },
      "source": [
        "### Problem 2: $PV_{ordinary}$"
      ]
    },
    {
      "cell_type": "markdown",
      "id": "ae08a5d9",
      "metadata": {
        "id": "ae08a5d9"
      },
      "source": [
        "Write a program to calculate and return the present value of an annuity of C to be received each period for n periods, discounted at the rate r. Recall the equation for the present value of an annuity is:\n",
        "\n",
        "$$PV_{ordinary} = C\\cdot\\left(\\frac{1 - (1+r)^{-n}}{r}\\right)$$\n"
      ]
    },
    {
      "cell_type": "markdown",
      "id": "820e568a",
      "metadata": {
        "id": "820e568a"
      },
      "source": [
        "**Technical task**\n",
        "\n",
        "Variables:\n",
        "- r (float): Discount rate per period.\n",
        "- n (int): Number of periods.\n",
        "- C (float): Payment amount per period.\n",
        "\n",
        "Output:\n",
        "- present_value (float): Present value of the annuity."
      ]
    },
    {
      "cell_type": "code",
      "execution_count": null,
      "id": "3a8082fc",
      "metadata": {
        "id": "3a8082fc"
      },
      "outputs": [],
      "source": [
        "\n",
        "C = float(input(\"Enter cash flow per period (C): \"))\n",
        "r = float(input(\"Enter discount rate (r): \"))\n",
        "n = int(input(\"Enter number of payments (n): \"))\n",
        "\n",
        "\n",
        "PV_ordinary = C * ((1 - (1 + r)**(-n)) / r)\n",
        "\n",
        "\n",
        "print(\"The present value of the annuity is: {:.2f}\".format(PV_ordinary))\n"
      ]
    },
    {
      "cell_type": "markdown",
      "id": "7f33db79",
      "metadata": {
        "id": "7f33db79"
      },
      "source": [
        "### Problem 3: $C_{ordinary}$"
      ]
    },
    {
      "cell_type": "markdown",
      "id": "9ba4d53a",
      "metadata": {
        "id": "9ba4d53a"
      },
      "source": [
        "Write a program that calculates the amortizing annuity\n",
        "payment for a present value of pv to be repaid at a periodic interest rate of r for n periods. Recall the equation for the amortizing annuity payment is:\n",
        "\n",
        "$$ C_{ordinary}  = \\frac{r \\cdot PV}{1 - (1+r)^{-n}} $$"
      ]
    },
    {
      "cell_type": "markdown",
      "id": "a782c087",
      "metadata": {
        "id": "a782c087"
      },
      "source": [
        "Try to code everything by yourself :)"
      ]
    },
    {
      "cell_type": "code",
      "execution_count": 10,
      "id": "7d321997",
      "metadata": {
        "colab": {
          "base_uri": "https://localhost:8080/"
        },
        "id": "7d321997",
        "outputId": "a06471cd-d4e5-4d2b-92ca-16625ef4dd9e"
      },
      "outputs": [
        {
          "output_type": "stream",
          "name": "stdout",
          "text": [
            "Enter present value (PV): 23.3\n",
            "Enter periodic interest rate (r): 236.6\n",
            "Enter number of periods (n): 12\n",
            "The amortizing annuity payment is: 5512.78\n"
          ]
        }
      ],
      "source": [
        "PV = float(input(\"Enter present value (PV): \"))\n",
        "r = float(input(\"Enter periodic interest rate (r): \"))\n",
        "n = int(input(\"Enter number of periods (n): \"))\n",
        "\n",
        "C_ordinary = r * PV / (1 - (1 + r)**(-n))\n",
        "\n",
        "print(\"The amortizing annuity payment is: {:.2f}\".format(C_ordinary))\n"
      ]
    },
    {
      "cell_type": "code",
      "execution_count": null,
      "id": "023857e1",
      "metadata": {
        "id": "023857e1"
      },
      "outputs": [],
      "source": [
        "@@@"
      ]
    },
    {
      "cell_type": "markdown",
      "id": "c6bff869",
      "metadata": {
        "id": "c6bff869"
      },
      "source": [
        "**Test**\n",
        "\n",
        "*Input*\n",
        "\n",
        "r = 0.05  # Periodic interest rate (5%)\n",
        "n = 10    # Number of periods\n",
        "pv = 10000  # Present value to be repaid\n",
        "\n",
        "*Output*\n",
        "\n",
        "The amortizing annuity payment is:  1295.05\n"
      ]
    }
  ],
  "metadata": {
    "kernelspec": {
      "display_name": "Python 3 (ipykernel)",
      "language": "python",
      "name": "python3"
    },
    "language_info": {
      "codemirror_mode": {
        "name": "ipython",
        "version": 3
      },
      "file_extension": ".py",
      "mimetype": "text/x-python",
      "name": "python",
      "nbconvert_exporter": "python",
      "pygments_lexer": "ipython3",
      "version": "3.9.13"
    },
    "colab": {
      "provenance": []
    }
  },
  "nbformat": 4,
  "nbformat_minor": 5
}